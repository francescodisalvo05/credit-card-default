{
 "cells": [
  {
   "cell_type": "code",
   "execution_count": 25,
   "metadata": {},
   "outputs": [],
   "source": [
    "from sklearn.decomposition import PCA\n",
    "\n",
    "import matplotlib.pyplot as plt\n",
    "import seaborn as sns\n",
    "import pandas as pd\n",
    "import numpy as np\n",
    "\n",
    "from imblearn.over_sampling import SMOTE\n",
    "from imblearn.under_sampling import RandomUnderSampler\n",
    "from imblearn.combine import SMOTEENN\n",
    "from sklearn.preprocessing import StandardScaler\n",
    "from sklearn.neighbors import LocalOutlierFactor\n",
    "\n",
    "\n",
    "from sklearn.ensemble import RandomForestClassifier\n",
    "from sklearn.svm import SVC\n",
    "from sklearn.neighbors import KNeighborsClassifier\n",
    "\n",
    "from imblearn.pipeline import make_pipeline  as imb_make_pipeline\n",
    "from sklearn.pipeline import make_pipeline\n",
    "\n",
    "from sklearn.model_selection import train_test_split, GridSearchCV, StratifiedKFold\n",
    "\n",
    "from sklearn.metrics import classification_report, f1_score, auc, accuracy_score\n",
    "from sklearn.metrics import confusion_matrix,roc_auc_score,roc_curve\n",
    "\n",
    "from prettytable import PrettyTable\n",
    "from collections import Counter\n",
    "\n",
    "%matplotlib inline\n",
    "sns.set_style('whitegrid')\n",
    "\n",
    "import warnings\n",
    "warnings.filterwarnings(\"ignore\")\n",
    "\n",
    "random_state = 42"
   ]
  },
  {
   "cell_type": "code",
   "execution_count": 2,
   "metadata": {},
   "outputs": [],
   "source": [
    "df = pd.read_csv('../data/default-of-credit-card-clients.csv')\n",
    "df = df.rename(columns={\"PAY_0\": \"PAY_1\"}, errors=\"raise\")\n",
    "df.drop(columns=['ID'],inplace=True)"
   ]
  },
  {
   "cell_type": "markdown",
   "metadata": {},
   "source": [
    "## Feature Engineering"
   ]
  },
  {
   "cell_type": "code",
   "execution_count": 5,
   "metadata": {},
   "outputs": [
    {
     "data": {
      "text/plain": [
       "default payment next month    1.00\n",
       "PAY_1                         0.32\n",
       "PAY_2                         0.26\n",
       "PAY_3                         0.24\n",
       "PAY_4                         0.22\n",
       "PAY_5                         0.20\n",
       "PAY_6                         0.19\n",
       "LIMIT_BAL                     0.15\n",
       "PAY_AMT1                      0.07\n",
       "PAY_AMT2                      0.06\n",
       "PAY_AMT3                      0.06\n",
       "PAY_AMT4                      0.06\n",
       "PAY_AMT5                      0.06\n",
       "PAY_AMT6                      0.05\n",
       "SEX                           0.04\n",
       "EDUCATION                     0.03\n",
       "MARRIAGE                      0.02\n",
       "BILL_AMT1                     0.02\n",
       "AGE                           0.01\n",
       "BILL_AMT3                     0.01\n",
       "BILL_AMT4                     0.01\n",
       "BILL_AMT5                     0.01\n",
       "BILL_AMT6                     0.01\n",
       "BILL_AMT2                     0.01\n",
       "Name: default payment next month, dtype: float64"
      ]
     },
     "execution_count": 5,
     "metadata": {},
     "output_type": "execute_result"
    }
   ],
   "source": [
    "round(abs(df.corr()['default payment next month']),2).sort_values(ascending=False)\n",
    "\n",
    "# get the first seven rows"
   ]
  },
  {
   "cell_type": "code",
   "execution_count": 6,
   "metadata": {},
   "outputs": [],
   "source": []
  },
  {
   "cell_type": "markdown",
   "metadata": {},
   "source": [
    "## Utils"
   ]
  },
  {
   "cell_type": "code",
   "execution_count": 31,
   "metadata": {},
   "outputs": [],
   "source": [
    "def drop_correlated_data(df):    \n",
    "    # remove the values that have a lower correlation in absolute value\n",
    "    low_corr_cols = pd.Series(round(abs(df.corr()['default payment next month']),2).sort_values(ascending=False)[8:].index)\n",
    "    df = df.drop(columns=low_corr_cols)\n",
    "    \n",
    "    y, X = df[\"default payment next month\"], df.drop(\"default payment next month\", axis=1)\n",
    "    \n",
    "    return X,y\n",
    "\n",
    "def split_data(X,y, random_state=42):\n",
    "        \n",
    "    X_train, X_test, y_train, y_test = train_test_split(X, y, test_size= 0.25,\n",
    "                                                        stratify= y, random_state=random_state)\n",
    "\n",
    "    return X_train, X_test, y_train, y_test\n",
    "\n",
    "def report(y_true, y_pred, title = \"\", \n",
    "           params = None, show_cm = True, show_params = True):\n",
    "\n",
    "    nl = '\\n'\n",
    "    sp = \"*\"*len(title)\n",
    "    \n",
    "#     print(\"__\"*30 + nl)\n",
    "    if title:\n",
    "        title = \"Classification report for \" + title + \" on yet-unseen data\"\n",
    "        sp = \"*\"*len(title)\n",
    "        print(sp + nl + title + nl + sp +nl)\n",
    "    \n",
    "    acc = accuracy_score(y_true, y_pred)\n",
    "    f_score = f1_score(y_true, y_pred)\n",
    "    print(\"Accuracy: {:.3f}\".format(acc))\n",
    "    print(\"f-score: {:.3f}\".format(f_score))\n",
    "    \n",
    "    if params and show_params:\n",
    "        new_params = {}\n",
    "        for k in params:\n",
    "            new_params[k.split(\"__\")[-1]] = params[k]\n",
    "            \n",
    "        print(\"\\nBest Parameters:\")\n",
    "#         pprint(new_params, indent = 4)\n",
    "        print(grid_search.best_estimator_)\n",
    "        \n",
    "#     print(classification_report(y_true, y_pred))\n",
    "    if show_cm:\n",
    "        plt.figure(figsize = (6,5))\n",
    "        cm = confusion_matrix(y_true, y_pred)\n",
    "        sns.heatmap(cm, annot = True, \n",
    "                    cmap = 'YlGnBu', \n",
    "                    annot_kws={\"size\": 18},\n",
    "                    linecolor = 'w',\n",
    "                    linewidth = 4\n",
    "                   )\n",
    "        plt.title(\"Confusion Matrix\")\n",
    "        plt.xlabel(\"Predicted labels\")\n",
    "        plt.ylabel(\"True labels\")\n",
    "    \n",
    "    return (acc, f_score)\n",
    "    \n",
    "scores_dict = {}\n",
    "gs_trained_models =  {}\n",
    "\n",
    "def outliers_iqr(df):\n",
    "    \n",
    "    Q1 = df.quantile(0.25)\n",
    "    Q3 = df.quantile(0.75)\n",
    "\n",
    "    IQR = Q3 - Q1\n",
    "    \n",
    "    df_out = df[~((df < (Q1 - 1.5 * IQR)) |(df > (Q3 + 1.5 * IQR))).any(axis=1)]\n",
    "    \n",
    "    y = df_out[\"default payment next month\"]\n",
    "    X = df_out.drop(columns=[\"default payment next month\"])\n",
    "    \n",
    "    return X, y\n",
    "\n",
    "def outliers_lof(df, n_neighbors=20):\n",
    "    \n",
    "    y, X = df[\"default payment next month\"], df.drop(\"default payment next month\", axis=1)\n",
    "    \n",
    "    y = np.asarray(y)\n",
    "    X = np.asarray(X)\n",
    "\n",
    "    outliers = LocalOutlierFactor(n_neighbors = n_neighbors, n_jobs = -1).fit_predict(X)\n",
    "    X = X[outliers == 1, :]\n",
    "    y = y[outliers == 1]\n",
    "\n",
    "    return X, y"
   ]
  },
  {
   "cell_type": "code",
   "execution_count": 70,
   "metadata": {},
   "outputs": [],
   "source": [
    "random_state = 42\n",
    "\n",
    "scaler = StandardScaler()\n",
    "\n",
    "pca = PCA(n_components=11, random_state=random_state)\n",
    "\n",
    "under_s = RandomUnderSampler(sampling_strategy=0.8, random_state=random_state)\n",
    "over_s = SMOTE(sampling_strategy=0.5, random_state=random_state)\n",
    "smoteenn = SMOTEENN(random_state=random_state)\n",
    "\n",
    "cases = []\n",
    "\n",
    "params = {\n",
    "    \"randomforestclassifier\" : {\n",
    "        \"randomforestclassifier__n_estimators\":[80,100,120],\n",
    "        \"randomforestclassifier__criterion\":[\"gini\", \"entropy\"],\n",
    "        \"randomforestclassifier__max_depth\":[8,10,12],\n",
    "        \"randomforestclassifier__min_samples_split\":[2,4,6],\n",
    "        \"randomforestclassifier__max_features\":['sqrt','log2'],\n",
    "    },\n",
    "    \"svc\" : {\n",
    "        \"svc__kernel\": ['linear', 'rbf', 'poly'],\n",
    "        \"svc__gamma\" :['scale', 'auto'],\n",
    "        \"svc__tol\": [1e-2,1e-3,1e-4],\n",
    "        \"svc__C\": [0.5,0.8, 1.0,1.2, 1.5] \n",
    "    },\n",
    "    \"knn\" : {\n",
    "        \"knn_n\" : [3,5,7,9]\n",
    "    }\n",
    "}\n",
    "\n",
    "models = {\n",
    "    \"randomforestclassifier\" : RandomForestClassifier(random_state=random_state),\n",
    "    \"knn\" : KNeighborsClassifier(n_neighbors=9),\n",
    "    \"svm\" : SVC(),\n",
    "} "
   ]
  },
  {
   "cell_type": "code",
   "execution_count": 48,
   "metadata": {},
   "outputs": [],
   "source": [
    "def perform_all_tests(df, features_filtering, pca_options, outliers_options, resampling_options, model_name, models, random_state):\n",
    "    \n",
    "    y, X = df[\"default payment next month\"], df.drop(\"default payment next month\", axis=1)\n",
    "\n",
    "    table = PrettyTable()\n",
    "\n",
    "    table.title = f'Results for {model_name}'\n",
    "    table.field_names = ['Preprocessing','Accuracy','F1']\n",
    "\n",
    "    for ff in features_filtering:\n",
    "        for pca_opt in pca_options:\n",
    "            for outliers_opt in outliers_options:\n",
    "                for resampling_opt in resampling_options:\n",
    "\n",
    "                    field_0 = ''\n",
    "\n",
    "                    if ff:\n",
    "                        field_0 += 'Drop corr + '\n",
    "                        X, y = drop_correlated_data(df)\n",
    "\n",
    "\n",
    "                    if outliers_opt:\n",
    "\n",
    "                        if outliers_opt == \"iqr\":\n",
    "                            X, y = outliers_iqr(df)\n",
    "                            field_0 += 'IQR + '\n",
    "\n",
    "                        if outliers_opt == \"lof\":\n",
    "                            X, y = outliers_lof(df)\n",
    "                            field_0 += 'LOF + '\n",
    "                    \n",
    "                    # if ff = True, \n",
    "                    # this combination should be avoided\n",
    "                    if ff:\n",
    "                        continue\n",
    "\n",
    "                    # both imb_make_pipeline and make_pipeline have some problems \n",
    "                    # with giving an array as input. So I manually check for each combinations\n",
    "                    if pca_opt and resampling_opt:\n",
    "                        field_0 += f'Scaling + PCA + {str(resampling_opt).split(\"(\")[0]}'\n",
    "                        pipeline = imb_make_pipeline(scaler,pca,resampling_opt,models[model_name])\n",
    "\n",
    "                    elif not pca_opt and resampling_opt:\n",
    "                        field_0 += f'Scaling + {str(resampling_opt).split(\"(\")[0]}'\n",
    "                        pipeline = imb_make_pipeline(scaler,resampling_opt,models[model_name])\n",
    "\n",
    "                    elif pca_opt and not resampling_opt:\n",
    "                        field_0 += f'Scaling + PCA'\n",
    "                        pipeline = make_pipeline(scaler,pca,models[model_name])\n",
    "\n",
    "                    elif not pca_opt and not resampling_opt:\n",
    "                        field_0 += f'Scaling'\n",
    "                        pipeline = make_pipeline(scaler,models[model_name])\n",
    "\n",
    "                    X_train, X_test, y_train, y_test = split_data(X, y, 42)\n",
    "\n",
    "                    pipeline.fit(X_train, y_train)\n",
    "                    y_predicted = pipeline.predict(X_test)\n",
    "\n",
    "                    accuracy = accuracy_score(y_test,y_predicted)\n",
    "                    f1 = f1_score(y_test,y_predicted)\n",
    "\n",
    "                    table.add_row([field_0, round(accuracy,4), round(f1,4)])   \n",
    "                    \n",
    "    print(table)"
   ]
  },
  {
   "cell_type": "markdown",
   "metadata": {},
   "source": [
    "# Random Forest"
   ]
  },
  {
   "cell_type": "code",
   "execution_count": 49,
   "metadata": {},
   "outputs": [
    {
     "name": "stdout",
     "output_type": "stream",
     "text": [
      "+--------------------------------------------------------------------+\n",
      "|                     Results for f{model_name}                      |\n",
      "+------------------------------------------------+----------+--------+\n",
      "|                 Preprocessing                  | Accuracy |   F1   |\n",
      "+------------------------------------------------+----------+--------+\n",
      "|              Drop corr + Scaling               |  0.7975  | 0.4438 |\n",
      "|    Drop corr + Scaling + RandomUnderSampler    |  0.7343  | 0.4811 |\n",
      "|          Drop corr + Scaling + SMOTE           |  0.7884  | 0.4582 |\n",
      "|         Drop corr + Scaling + SMOTEENN         |  0.7371  | 0.4933 |\n",
      "|           Drop corr + LOF + Scaling            |  0.8162  | 0.4896 |\n",
      "| Drop corr + LOF + Scaling + RandomUnderSampler |  0.7776  | 0.5491 |\n",
      "|       Drop corr + LOF + Scaling + SMOTE        |  0.8163  | 0.5237 |\n",
      "|      Drop corr + LOF + Scaling + SMOTEENN      |  0.7635  | 0.5484 |\n",
      "|              Drop corr + Scaling               |  0.7975  | 0.4438 |\n",
      "|    Drop corr + Scaling + RandomUnderSampler    |  0.7343  | 0.4811 |\n",
      "|          Drop corr + Scaling + SMOTE           |  0.7884  | 0.4582 |\n",
      "|         Drop corr + Scaling + SMOTEENN         |  0.7371  | 0.4933 |\n",
      "|           Drop corr + LOF + Scaling            |  0.8162  | 0.4896 |\n",
      "| Drop corr + LOF + Scaling + RandomUnderSampler |  0.7776  | 0.5491 |\n",
      "|       Drop corr + LOF + Scaling + SMOTE        |  0.8163  | 0.5237 |\n",
      "|      Drop corr + LOF + Scaling + SMOTEENN      |  0.7635  | 0.5484 |\n",
      "|                    Scaling                     |  0.8162  | 0.4896 |\n",
      "|          Scaling + RandomUnderSampler          |  0.7776  | 0.5491 |\n",
      "|                Scaling + SMOTE                 |  0.8163  | 0.5237 |\n",
      "|               Scaling + SMOTEENN               |  0.7635  | 0.5484 |\n",
      "|                 LOF + Scaling                  |  0.8162  | 0.4896 |\n",
      "|       LOF + Scaling + RandomUnderSampler       |  0.7776  | 0.5491 |\n",
      "|             LOF + Scaling + SMOTE              |  0.8163  | 0.5237 |\n",
      "|            LOF + Scaling + SMOTEENN            |  0.7635  | 0.5484 |\n",
      "|                 Scaling + PCA                  |  0.7976  | 0.4161 |\n",
      "|       Scaling + PCA + RandomUnderSampler       |  0.7711  | 0.5301 |\n",
      "|             Scaling + PCA + SMOTE              |  0.7954  | 0.4657 |\n",
      "|            Scaling + PCA + SMOTEENN            |  0.7268  | 0.511  |\n",
      "|              LOF + Scaling + PCA               |  0.7976  | 0.4161 |\n",
      "|    LOF + Scaling + PCA + RandomUnderSampler    |  0.7711  | 0.5301 |\n",
      "|          LOF + Scaling + PCA + SMOTE           |  0.7954  | 0.4657 |\n",
      "|         LOF + Scaling + PCA + SMOTEENN         |  0.7268  | 0.511  |\n",
      "+------------------------------------------------+----------+--------+\n"
     ]
    }
   ],
   "source": [
    "features_filtering = [True,False]\n",
    "pca_options = [False, pca]\n",
    "outliers_options = [None, \"lof\"]\n",
    "resampling_options = [None, under_s, over_s, smoteenn]\n",
    "\n",
    "perform_all_tests(df,features_filtering,pca_options, outliers_options,resampling_options,\"randomforestclassifier\",models,random_state)\n",
    "\n",
    "# best f1 \n",
    "# | Drop corr + LOF + Scaling + RandomUnderSampler |  0.7776  | 0.5491 |\n",
    "# | Drop corr + LOF + Scaling + RandomUnderSampler |  0.7776  | 0.5491 |\n",
    "# |          Scaling + RandomUnderSampler          |  0.7776  | 0.5491 |\n",
    "# |       LOF + Scaling + RandomUnderSampler       |  0.7776  | 0.5491 |"
   ]
  },
  {
   "cell_type": "code",
   "execution_count": 82,
   "metadata": {},
   "outputs": [
    {
     "name": "stdout",
     "output_type": "stream",
     "text": [
      "Wall time: 0 ns\n"
     ]
    },
    {
     "data": {
      "text/plain": [
       "Pipeline(steps=[('standardscaler', StandardScaler()),\n",
       "                ('randomforestclassifier',\n",
       "                 RandomForestClassifier(criterion='entropy', max_depth=8,\n",
       "                                        max_features='sqrt',\n",
       "                                        min_samples_split=4,\n",
       "                                        random_state=42))])"
      ]
     },
     "execution_count": 82,
     "metadata": {},
     "output_type": "execute_result"
    }
   ],
   "source": [
    "# CROSS VALIDATE THE HYPERPARAMS ON THE BEST PREPROCESSING PIPELINE\n",
    "\n",
    "pipeline = make_pipeline(StandardScaler(), models[\"randomforestclassifier\"])\n",
    "\n",
    "stratified_kfold = StratifiedKFold(n_splits=5,\n",
    "                                   shuffle=True,\n",
    "                                   random_state=random_state)\n",
    "\n",
    "grid_search = GridSearchCV(pipeline, params[\"randomforestclassifier\"],\n",
    "                               scoring = 'f1',\n",
    "                               n_jobs=-1,\n",
    "                               cv=stratified_kfold,\n",
    "                    )\n",
    "grid_search.fit(X_train, y_train)\n",
    "y_pred = grid_search.predict(X_test)\n",
    "grid_search.best_estimator_"
   ]
  },
  {
   "cell_type": "code",
   "execution_count": 83,
   "metadata": {},
   "outputs": [
    {
     "name": "stdout",
     "output_type": "stream",
     "text": [
      "*******************************************************************\n",
      "Classification report for RandomForestClassifier on yet-unseen data\n",
      "*******************************************************************\n",
      "\n",
      "Accuracy: 0.818\n",
      "f-score: 0.467\n",
      "\n",
      "Best Parameters:\n",
      "Pipeline(steps=[('standardscaler', StandardScaler()),\n",
      "                ('randomforestclassifier',\n",
      "                 RandomForestClassifier(criterion='entropy', max_depth=8,\n",
      "                                        max_features='sqrt',\n",
      "                                        min_samples_split=4,\n",
      "                                        random_state=42))])\n"
     ]
    },
    {
     "data": {
      "image/png": "[encoded data removed]",
      "text/plain": [
       "<Figure size 432x360 with 2 Axes>"
      ]
     },
     "metadata": {},
     "output_type": "display_data"
    }
   ],
   "source": [
    "acc, fscore = report(y_test, y_pred, \"RandomForestClassifier\", grid_search.best_params_, True, True)\n",
    "scores_dict[\"RandomForestClassifier\"] = fscore"
   ]
  },
  {
   "cell_type": "markdown",
   "metadata": {},
   "source": [
    "# KNN"
   ]
  },
  {
   "cell_type": "code",
   "execution_count": 65,
   "metadata": {},
   "outputs": [
    {
     "data": {
      "text/plain": [
       "[<matplotlib.lines.Line2D at 0x1fb0359efd0>]"
      ]
     },
     "execution_count": 65,
     "metadata": {},
     "output_type": "execute_result"
    },
    {
     "data": {
      "image/png": "[encoded data removed]",
      "text/plain": [
       "<Figure size 432x288 with 1 Axes>"
      ]
     },
     "metadata": {},
     "output_type": "display_data"
    }
   ],
   "source": [
    "# choose the value of K\n",
    "\n",
    "k_list = [i for i in range(3,50,2)]\n",
    "f1_list = []\n",
    "\n",
    "y, X = df[\"default payment next month\"], df.drop(\"default payment next month\", axis=1)\n",
    "X_train, X_test, y_train, y_test = split_data(X, y, 42)\n",
    "\n",
    "for k in k_list:\n",
    "    neigh = KNeighborsClassifier(n_neighbors=k)\n",
    "    neigh.fit(X_train, y_train)\n",
    "    y_pred = neigh.predict(X_test)\n",
    "    f1_list.append(f1_score(y_test,y_pred))\n",
    "    \n",
    "\n",
    "plt.plot(k_list,f1_list)    "
   ]
  },
  {
   "cell_type": "code",
   "execution_count": 64,
   "metadata": {},
   "outputs": [
    {
     "data": {
      "text/plain": [
       "[<matplotlib.lines.Line2D at 0x1fb03b6c1f0>]"
      ]
     },
     "execution_count": 64,
     "metadata": {},
     "output_type": "execute_result"
    },
    {
     "data": {
      "image/png": "[encoded data removed]",
      "text/plain": [
       "<Figure size 432x288 with 1 Axes>"
      ]
     },
     "metadata": {},
     "output_type": "display_data"
    }
   ],
   "source": [
    "# choose the value of K\n",
    "\n",
    "k_list = [i for i in range(3,50)]\n",
    "f1_list = []\n",
    "\n",
    "X_filt, y_filt = drop_correlated_data(df)\n",
    "X_train, X_test, y_train, y_test = split_data(X_filt, y_filt, 42)\n",
    "\n",
    "for k in k_list:\n",
    "    neigh = KNeighborsClassifier(n_neighbors=k)\n",
    "    neigh.fit(X_train, y_train)\n",
    "    y_pred = neigh.predict(X_test)\n",
    "    f1_list.append(f1_score(y_test,y_pred))\n",
    "    \n",
    "\n",
    "plt.plot(k_list,f1_list)    "
   ]
  },
  {
   "cell_type": "code",
   "execution_count": 71,
   "metadata": {},
   "outputs": [
    {
     "name": "stdout",
     "output_type": "stream",
     "text": [
      "+--------------------------------------------------------------------+\n",
      "|                     Results for f{model_name}                      |\n",
      "+------------------------------------------------+----------+--------+\n",
      "|                 Preprocessing                  | Accuracy |   F1   |\n",
      "+------------------------------------------------+----------+--------+\n",
      "|              Drop corr + Scaling               |  0.8056  | 0.4502 |\n",
      "|    Drop corr + Scaling + RandomUnderSampler    |  0.7577  | 0.4951 |\n",
      "|          Drop corr + Scaling + SMOTE           |  0.7937  | 0.4976 |\n",
      "|         Drop corr + Scaling + SMOTEENN         |  0.7491  | 0.5034 |\n",
      "|           Drop corr + LOF + Scaling            |  0.8064  | 0.4562 |\n",
      "| Drop corr + LOF + Scaling + RandomUnderSampler |  0.749   | 0.5119 |\n",
      "|       Drop corr + LOF + Scaling + SMOTE        |  0.773   | 0.5039 |\n",
      "|      Drop corr + LOF + Scaling + SMOTEENN      |  0.6252  | 0.4749 |\n",
      "|              Drop corr + Scaling               |  0.8056  | 0.4502 |\n",
      "|    Drop corr + Scaling + RandomUnderSampler    |  0.7577  | 0.4951 |\n",
      "|          Drop corr + Scaling + SMOTE           |  0.7937  | 0.4976 |\n",
      "|         Drop corr + Scaling + SMOTEENN         |  0.7491  | 0.5034 |\n",
      "|           Drop corr + LOF + Scaling            |  0.8064  | 0.4562 |\n",
      "| Drop corr + LOF + Scaling + RandomUnderSampler |  0.749   | 0.5119 |\n",
      "|       Drop corr + LOF + Scaling + SMOTE        |  0.773   | 0.5039 |\n",
      "|      Drop corr + LOF + Scaling + SMOTEENN      |  0.6252  | 0.4749 |\n",
      "|                    Scaling                     |  0.8064  | 0.4562 |\n",
      "|          Scaling + RandomUnderSampler          |  0.749   | 0.5119 |\n",
      "|                Scaling + SMOTE                 |  0.773   | 0.5039 |\n",
      "|               Scaling + SMOTEENN               |  0.6252  | 0.4749 |\n",
      "|                 LOF + Scaling                  |  0.8064  | 0.4562 |\n",
      "|       LOF + Scaling + RandomUnderSampler       |  0.749   | 0.5119 |\n",
      "|             LOF + Scaling + SMOTE              |  0.773   | 0.5039 |\n",
      "|            LOF + Scaling + SMOTEENN            |  0.6252  | 0.4749 |\n",
      "|                 Scaling + PCA                  |  0.7955  | 0.412  |\n",
      "|       Scaling + PCA + RandomUnderSampler       |  0.734   | 0.4895 |\n",
      "|             Scaling + PCA + SMOTE              |  0.7578  | 0.467  |\n",
      "|            Scaling + PCA + SMOTEENN            |  0.623   | 0.4658 |\n",
      "|              LOF + Scaling + PCA               |  0.7955  | 0.412  |\n",
      "|    LOF + Scaling + PCA + RandomUnderSampler    |  0.734   | 0.4895 |\n",
      "|          LOF + Scaling + PCA + SMOTE           |  0.7578  | 0.467  |\n",
      "|         LOF + Scaling + PCA + SMOTEENN         |  0.623   | 0.4658 |\n",
      "+------------------------------------------------+----------+--------+\n"
     ]
    }
   ],
   "source": [
    "features_filtering = [True,False]\n",
    "pca_options = [False, pca]\n",
    "outliers_options = [None, \"lof\"]\n",
    "resampling_options = [None, under_s, over_s, smoteenn]\n",
    "\n",
    "perform_all_tests(df,features_filtering,pca_options, outliers_options,resampling_options,\"knn\",models,random_state)"
   ]
  },
  {
   "cell_type": "code",
   "execution_count": null,
   "metadata": {},
   "outputs": [],
   "source": []
  }
 ],
 "metadata": {
  "kernelspec": {
   "display_name": "venv-mml-2",
   "language": "python",
   "name": "venv-mml"
  },
  "language_info": {
   "codemirror_mode": {
    "name": "ipython",
    "version": 3
   },
   "file_extension": ".py",
   "mimetype": "text/x-python",
   "name": "python",
   "nbconvert_exporter": "python",
   "pygments_lexer": "ipython3",
   "version": "3.9.5"
  }
 },
 "nbformat": 4,
 "nbformat_minor": 4
}
