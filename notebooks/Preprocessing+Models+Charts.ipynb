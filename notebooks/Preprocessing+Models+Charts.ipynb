{
 "cells": [
  {
   "cell_type": "code",
   "execution_count": 104,
   "metadata": {},
   "outputs": [],
   "source": [
    "from sklearn.decomposition import PCA\n",
    "\n",
    "import matplotlib.pyplot as plt\n",
    "import seaborn as sns\n",
    "import pandas as pd\n",
    "import numpy as np\n",
    "\n",
    "from imblearn.over_sampling import SMOTE\n",
    "from imblearn.under_sampling import RandomUnderSampler\n",
    "from imblearn.combine import SMOTEENN\n",
    "from sklearn.preprocessing import StandardScaler\n",
    "from sklearn.neighbors import LocalOutlierFactor\n",
    "\n",
    "\n",
    "from sklearn.ensemble import RandomForestClassifier\n",
    "from sklearn.svm import SVC\n",
    "from sklearn.neighbors import KNeighborsClassifier\n",
    "\n",
    "from imblearn.pipeline import make_pipeline  as imb_make_pipeline\n",
    "from sklearn.pipeline import make_pipeline\n",
    "from imblearn import FunctionSampler\n",
    "\n",
    "from sklearn.model_selection import train_test_split, GridSearchCV, StratifiedKFold\n",
    "\n",
    "from sklearn.metrics import classification_report, f1_score, auc, accuracy_score\n",
    "from sklearn.metrics import confusion_matrix,roc_auc_score,roc_curve\n",
    "\n",
    "from prettytable import PrettyTable\n",
    "from collections import Counter\n",
    "\n",
    "%matplotlib inline\n",
    "sns.set_style('whitegrid')\n",
    "\n",
    "import warnings\n",
    "warnings.filterwarnings(\"ignore\")\n",
    "\n",
    "random_state = 42"
   ]
  },
  {
   "cell_type": "code",
   "execution_count": 2,
   "metadata": {},
   "outputs": [],
   "source": [
    "df = pd.read_csv('../data/default-of-credit-card-clients.csv')\n",
    "df = df.rename(columns={\"PAY_0\": \"PAY_1\"}, errors=\"raise\")\n",
    "df.drop(columns=['ID'],inplace=True)"
   ]
  },
  {
   "cell_type": "markdown",
   "metadata": {},
   "source": [
    "## Feature Engineering"
   ]
  },
  {
   "cell_type": "code",
   "execution_count": 3,
   "metadata": {},
   "outputs": [
    {
     "data": {
      "text/plain": [
       "default payment next month    1.00\n",
       "PAY_1                         0.32\n",
       "PAY_2                         0.26\n",
       "PAY_3                         0.24\n",
       "PAY_4                         0.22\n",
       "PAY_5                         0.20\n",
       "PAY_6                         0.19\n",
       "LIMIT_BAL                     0.15\n",
       "PAY_AMT1                      0.07\n",
       "PAY_AMT2                      0.06\n",
       "PAY_AMT3                      0.06\n",
       "PAY_AMT4                      0.06\n",
       "PAY_AMT5                      0.06\n",
       "PAY_AMT6                      0.05\n",
       "SEX                           0.04\n",
       "EDUCATION                     0.03\n",
       "MARRIAGE                      0.02\n",
       "BILL_AMT1                     0.02\n",
       "AGE                           0.01\n",
       "BILL_AMT3                     0.01\n",
       "BILL_AMT4                     0.01\n",
       "BILL_AMT5                     0.01\n",
       "BILL_AMT6                     0.01\n",
       "BILL_AMT2                     0.01\n",
       "Name: default payment next month, dtype: float64"
      ]
     },
     "execution_count": 3,
     "metadata": {},
     "output_type": "execute_result"
    }
   ],
   "source": [
    "round(abs(df.corr()['default payment next month']),2).sort_values(ascending=False)\n",
    "\n",
    "# get the first seven rows"
   ]
  },
  {
   "cell_type": "code",
   "execution_count": 38,
   "metadata": {},
   "outputs": [
    {
     "data": {
      "text/plain": [
       "array(['PAY_AMT1', 'PAY_AMT2', 'PAY_AMT3', 'PAY_AMT4', 'PAY_AMT5',\n",
       "       'PAY_AMT6', 'SEX', 'EDUCATION', 'MARRIAGE', 'BILL_AMT1', 'AGE',\n",
       "       'BILL_AMT3', 'BILL_AMT4', 'BILL_AMT5', 'BILL_AMT6', 'BILL_AMT2'],\n",
       "      dtype=object)"
      ]
     },
     "execution_count": 38,
     "metadata": {},
     "output_type": "execute_result"
    }
   ],
   "source": [
    "low_corr_cols = pd.Series(round(abs(df.corr()['default payment next month']),2).sort_values(ascending=False)[8:].index)\n",
    "low_corr_cols.values"
   ]
  },
  {
   "cell_type": "markdown",
   "metadata": {},
   "source": [
    "## Utils"
   ]
  },
  {
   "cell_type": "code",
   "execution_count": 10,
   "metadata": {},
   "outputs": [],
   "source": [
    "def drop_correlated_data(df):    \n",
    "    # remove the values that have a lower correlation in absolute value\n",
    "    low_corr_cols = pd.Series(round(abs(df.corr()['default payment next month']),2).sort_values(ascending=False)[8:].index)\n",
    "    df = df.drop(columns=low_corr_cols)\n",
    "    \n",
    "    y, X = df[\"default payment next month\"], df.drop(\"default payment next month\", axis=1)\n",
    "    \n",
    "    return X,y\n",
    "\n",
    "def split_data(X,y, random_state=42):\n",
    "        \n",
    "    X_train, X_test, y_train, y_test = train_test_split(X, y, test_size= 0.25,\n",
    "                                                        stratify= y, random_state=random_state)\n",
    "\n",
    "    return X_train, X_test, y_train, y_test\n",
    "\n",
    "def report(y_true, y_pred, title = \"\", \n",
    "           params = None, show_cm = True, show_params = True):\n",
    "\n",
    "    nl = '\\n'\n",
    "    sp = \"*\"*len(title)\n",
    "    \n",
    "#     print(\"__\"*30 + nl)\n",
    "    if title:\n",
    "        title = \"Classification report for \" + title + \" on yet-unseen data\"\n",
    "        sp = \"*\"*len(title)\n",
    "        print(sp + nl + title + nl + sp +nl)\n",
    "    \n",
    "    acc = accuracy_score(y_true, y_pred)\n",
    "    f_score = f1_score(y_true, y_pred)\n",
    "    print(\"Accuracy: {:.3f}\".format(acc))\n",
    "    print(\"f-score: {:.3f}\".format(f_score))\n",
    "    \n",
    "    if params and show_params:\n",
    "        new_params = {}\n",
    "        for k in params:\n",
    "            new_params[k.split(\"__\")[-1]] = params[k]\n",
    "            \n",
    "        print(\"\\nBest Parameters:\")\n",
    "#         pprint(new_params, indent = 4)\n",
    "        print(grid_search.best_estimator_)\n",
    "        \n",
    "#     print(classification_report(y_true, y_pred))\n",
    "    if show_cm:\n",
    "        plt.figure(figsize = (6,5))\n",
    "        cm = confusion_matrix(y_true, y_pred)\n",
    "        sns.heatmap(cm, annot = True, \n",
    "                    cmap = 'YlGnBu', \n",
    "                    annot_kws={\"size\": 18},\n",
    "                    linecolor = 'w',\n",
    "                    linewidth = 4\n",
    "                   )\n",
    "        plt.title(\"Confusion Matrix\")\n",
    "        plt.xlabel(\"Predicted labels\")\n",
    "        plt.ylabel(\"True labels\")\n",
    "    \n",
    "    return (acc, f_score)\n",
    "    \n",
    "scores_dict = {}\n",
    "gs_trained_models =  {}\n",
    "\n",
    "def outliers_iqr(X,y):\n",
    "    \n",
    "    Q1 = df.quantile(0.25)\n",
    "    Q3 = df.quantile(0.75)\n",
    "\n",
    "    IQR = Q3 - Q1\n",
    "    \n",
    "    df_out = df[~((df < (Q1 - 1.5 * IQR)) |(df > (Q3 + 1.5 * IQR))).any(axis=1)]\n",
    "    \n",
    "    y = df_out[\"default payment next month\"]\n",
    "    X = df_out.drop(columns=[\"default payment next month\"])\n",
    "    \n",
    "    return X, y\n",
    "\n",
    "def outliers_lof(X,y, n_neighbors=20):\n",
    "    \n",
    "    y = np.asarray(y)\n",
    "    X = np.asarray(X)\n",
    "\n",
    "    outliers = LocalOutlierFactor(n_neighbors = n_neighbors, n_jobs = -1).fit_predict(X)\n",
    "    X = X[outliers == 1, :]\n",
    "    y = y[outliers == 1]\n",
    "\n",
    "    return X, y"
   ]
  },
  {
   "cell_type": "code",
   "execution_count": 107,
   "metadata": {},
   "outputs": [],
   "source": [
    "random_state = 42\n",
    "\n",
    "scaler = StandardScaler()\n",
    "\n",
    "pca = PCA(n_components=11, random_state=random_state)\n",
    "\n",
    "under_s = RandomUnderSampler(sampling_strategy=0.8, random_state=random_state)\n",
    "over_s = SMOTE(sampling_strategy='minority', random_state=random_state)\n",
    "smoteenn = SMOTEENN(random_state=random_state)\n",
    "\n",
    "cases = []\n",
    "\n",
    "param_grids = {\n",
    "    \"rf\" : {\n",
    "        \"randomforestclassifier__n_estimators\":[80,100,120],\n",
    "        \"randomforestclassifier__criterion\":[\"gini\", \"entropy\"],\n",
    "        \"randomforestclassifier__max_features\":['sqrt','log2'],\n",
    "        \"randomforestclassifier__n_jobs\": [-1],\n",
    "    },\n",
    "    \"svc\" : {\n",
    "        \"svc__kernel\": ['linear', 'rbf', 'poly'],\n",
    "        \"svc__gamma\" :['scale', 'auto'],\n",
    "        \"svc__tol\": [1e-2,1e-3,1e-4],\n",
    "        \"svc__C\": [0.5,0.8, 1.0,1.2, 1.5] \n",
    "    },\n",
    "    \"knn\" : {\n",
    "        \"kneighborsclassifier__n_neighbors\": [10, 50, 75],\n",
    "        \"kneighborsclassifier__weights\": [\"uniform\", \"distance\"],\n",
    "        \"kneighborsclassifier__algorithm\": [\"auto\", \"ball_tree\", \"kd_tree\", \"brute\"],\n",
    "        \"kneighborsclassifier__leaf_size\": [20,40,60],\n",
    "        \"kneighborsclassifier__n_jobs\": [-1],\n",
    "    }\n",
    "}\n",
    "\n",
    "models = {\n",
    "    \"rf\" : RandomForestClassifier(random_state=random_state),\n",
    "    \"knn\" : KNeighborsClassifier(n_neighbors=9),\n",
    "    \"svc\" : SVC(),\n",
    "} "
   ]
  },
  {
   "cell_type": "code",
   "execution_count": 33,
   "metadata": {},
   "outputs": [],
   "source": [
    "def perform_all_tests(df, features_filtering, pca_options, outliers_options, resampling_options, model_name, models, random_state):\n",
    "    \n",
    "    y, X = df[\"default payment next month\"], df.drop(\"default payment next month\", axis=1)\n",
    "\n",
    "    table = PrettyTable()\n",
    "\n",
    "    table.title = f'Results for {model_name}'\n",
    "    table.field_names = ['Preprocessing','Accuracy','F1']\n",
    "\n",
    "    for ff in features_filtering:\n",
    "        for pca_opt in pca_options:\n",
    "            for outliers_opt in outliers_options:\n",
    "                for resampling_opt in resampling_options:\n",
    "\n",
    "                    # if ff = True, \n",
    "                    # this combination should be avoided\n",
    "                    \n",
    "                    field_0 = ''\n",
    "\n",
    "                    if ff:\n",
    "                        field_0 += 'Drop corr + '\n",
    "                        X, y = drop_correlated_data(df)\n",
    "\n",
    "                    if outliers_opt:\n",
    "\n",
    "                        if outliers_opt == \"iqr\":\n",
    "                            # update\n",
    "                            X, y = outliers_iqr(df)\n",
    "                            field_0 += 'IQR + '\n",
    "\n",
    "                        if outliers_opt == \"lof\":\n",
    "                            X, y = outliers_lof(X,y)\n",
    "                            field_0 += 'LOF + '\n",
    "                    \n",
    "    \n",
    "                    # both imb_make_pipeline and make_pipeline have some problems \n",
    "                    # with giving an array as input. So I manually check for each combinations\n",
    "                    if pca_opt and resampling_opt:\n",
    "                        field_0 += f'Scaling + PCA + {str(resampling_opt).split(\"(\")[0]}'\n",
    "                        pipeline = imb_make_pipeline(scaler,pca,resampling_opt,models[model_name])\n",
    "\n",
    "                    elif not pca_opt and resampling_opt:\n",
    "                        field_0 += f'Scaling + {str(resampling_opt).split(\"(\")[0]}'\n",
    "                        pipeline = imb_make_pipeline(scaler,resampling_opt,models[model_name])\n",
    "\n",
    "                    elif pca_opt and not resampling_opt:\n",
    "                        field_0 += f'Scaling + PCA'\n",
    "                        pipeline = make_pipeline(scaler,pca,models[model_name])\n",
    "\n",
    "                    elif not pca_opt and not resampling_opt:\n",
    "                        field_0 += f'Scaling'\n",
    "                        pipeline = make_pipeline(scaler,models[model_name])\n",
    "\n",
    "                    X_train, X_test, y_train, y_test = split_data(X, y, 42)\n",
    "\n",
    "                    pipeline.fit(X_train, y_train)\n",
    "                    y_predicted = pipeline.predict(X_test)\n",
    "\n",
    "                    accuracy = accuracy_score(y_test,y_predicted)\n",
    "                    f1 = f1_score(y_test,y_predicted)\n",
    "\n",
    "                    table.add_row([field_0, round(accuracy,4), round(f1,4)])   \n",
    "                    \n",
    "    print(table)"
   ]
  },
  {
   "cell_type": "code",
   "execution_count": 85,
   "metadata": {},
   "outputs": [],
   "source": [
    "def training_pipeline(df, tests, model, param_grid, random_state=42):\n",
    "    \n",
    "    y, X = df[\"default payment next month\"], df.drop(\"default payment next month\", axis=1)\n",
    "    \n",
    "    results = []\n",
    "    \n",
    "    for curr_test in tests:\n",
    "        \n",
    "        outliers_option, scaling, pca, resampling = curr_test\n",
    "    \n",
    "        field_0 = ''\n",
    "\n",
    "        if outliers_option:\n",
    "\n",
    "            if outliers_option == \"iqr\":\n",
    "                # update\n",
    "                X, y = outliers_iqr(df)\n",
    "                field_0 += 'IQR + '\n",
    "\n",
    "            if outliers_option == \"lof\":\n",
    "                X, y = outliers_lof(X,y)\n",
    "                field_0 += 'LOF + '\n",
    "\n",
    "\n",
    "        # both imb_make_pipeline and make_pipeline have some problems \n",
    "        # with giving an array as input. So I manually check for each combinations\n",
    "        if pca and resampling and scaling:\n",
    "            field_0 += f'Scaling + PCA + {str(resampling).split(\"(\")[0]}'\n",
    "            pipeline = imb_make_pipeline(scaler,pca,resampling,model)\n",
    "\n",
    "        elif not pca and resampling and scaling:\n",
    "            field_0 += f'Scaling + {str(resampling).split(\"(\")[0]}'\n",
    "            pipeline = imb_make_pipeline(scaler,resampling,model)\n",
    "\n",
    "        elif pca and not resampling and scaling:\n",
    "            field_0 += f'Scaling + PCA'\n",
    "            pipeline = make_pipeline(scaler,pca,model)\n",
    "\n",
    "        elif not pca and not resampling and scaling:\n",
    "            field_0 += f'Scaling'\n",
    "            pipeline = make_pipeline(scaler,model)\n",
    "        elif not pca and not resampling and not scaling:\n",
    "            pipeline = make_pipeline(model)\n",
    "\n",
    "        X_train, X_test, y_train, y_test = split_data(X, y, 42)\n",
    "\n",
    "        gridsearch = GridSearchCV(pipeline, param_grid, scoring='f1', n_jobs=-1)\n",
    "        gridsearch.fit(X_train, y_train)\n",
    "\n",
    "        best_estimator = gridsearch.best_estimator_\n",
    "\n",
    "        y_pred = best_estimator.predict(X_test)\n",
    "        f1 = f1_score(y_test, y_pred)\n",
    "        curr_result = (field_0, f1, gridsearch.best_params_)\n",
    "\n",
    "        results.append(curr_result)\n",
    "        \n",
    "    return results"
   ]
  },
  {
   "cell_type": "markdown",
   "metadata": {},
   "source": [
    "# Random Forest"
   ]
  },
  {
   "cell_type": "code",
   "execution_count": 94,
   "metadata": {},
   "outputs": [],
   "source": [
    "# outliers_option, scaling, pca, resampling = curr_test\n",
    "# SET ALL COMBINATIONS\n",
    "\n",
    "pca_options = [None, pca]\n",
    "scaling = [True]\n",
    "outliers_options = [None, \"lof\"]\n",
    "resampling_options = [None, under_s, over_s, smoteenn]\n",
    "\n",
    "for o in outliers_options:\n",
    "    for s in scaling:\n",
    "        for p in pca_options:\n",
    "            for r in resampling_options:\n",
    "                tests.append([o,s,p,r])\n",
    "\n",
    "# outliers_option, scaling, pca, resampling = curr_test\n",
    "results_rf = training_pipeline(df, tests, models[\"rf\"], param_grids[\"rf\"])"
   ]
  },
  {
   "cell_type": "code",
   "execution_count": 95,
   "metadata": {},
   "outputs": [
    {
     "data": {
      "text/plain": [
       "[('Scaling + PCA + SMOTE',\n",
       "  0.4655326768128917,\n",
       "  {'randomforestclassifier__criterion': 'entropy',\n",
       "   'randomforestclassifier__max_features': 'sqrt',\n",
       "   'randomforestclassifier__n_estimators': 120,\n",
       "   'randomforestclassifier__n_jobs': -1}),\n",
       " ('Scaling',\n",
       "  0.4658787647731606,\n",
       "  {'randomforestclassifier__criterion': 'gini',\n",
       "   'randomforestclassifier__max_features': 'sqrt',\n",
       "   'randomforestclassifier__n_estimators': 100,\n",
       "   'randomforestclassifier__n_jobs': -1}),\n",
       " ('Scaling',\n",
       "  0.4658787647731606,\n",
       "  {'randomforestclassifier__criterion': 'gini',\n",
       "   'randomforestclassifier__max_features': 'sqrt',\n",
       "   'randomforestclassifier__n_estimators': 100,\n",
       "   'randomforestclassifier__n_jobs': -1}),\n",
       " ('Scaling + RandomUnderSampler',\n",
       "  0.5252089511997844,\n",
       "  {'randomforestclassifier__criterion': 'gini',\n",
       "   'randomforestclassifier__max_features': 'sqrt',\n",
       "   'randomforestclassifier__n_estimators': 120,\n",
       "   'randomforestclassifier__n_jobs': -1}),\n",
       " ('Scaling + SMOTE',\n",
       "  0.4987129987129987,\n",
       "  {'randomforestclassifier__criterion': 'entropy',\n",
       "   'randomforestclassifier__max_features': 'sqrt',\n",
       "   'randomforestclassifier__n_estimators': 120,\n",
       "   'randomforestclassifier__n_jobs': -1}),\n",
       " ('Scaling + SMOTEENN',\n",
       "  0.512362987509559,\n",
       "  {'randomforestclassifier__criterion': 'gini',\n",
       "   'randomforestclassifier__max_features': 'sqrt',\n",
       "   'randomforestclassifier__n_estimators': 80,\n",
       "   'randomforestclassifier__n_jobs': -1}),\n",
       " ('Scaling + PCA',\n",
       "  0.3921725239616613,\n",
       "  {'randomforestclassifier__criterion': 'gini',\n",
       "   'randomforestclassifier__max_features': 'sqrt',\n",
       "   'randomforestclassifier__n_estimators': 100,\n",
       "   'randomforestclassifier__n_jobs': -1}),\n",
       " ('Scaling + PCA + RandomUnderSampler',\n",
       "  0.49580514208389714,\n",
       "  {'randomforestclassifier__criterion': 'gini',\n",
       "   'randomforestclassifier__max_features': 'sqrt',\n",
       "   'randomforestclassifier__n_estimators': 80,\n",
       "   'randomforestclassifier__n_jobs': -1}),\n",
       " ('Scaling + PCA + SMOTE',\n",
       "  0.4655326768128917,\n",
       "  {'randomforestclassifier__criterion': 'entropy',\n",
       "   'randomforestclassifier__max_features': 'sqrt',\n",
       "   'randomforestclassifier__n_estimators': 120,\n",
       "   'randomforestclassifier__n_jobs': -1}),\n",
       " ('Scaling + PCA + SMOTEENN',\n",
       "  0.4952513319434793,\n",
       "  {'randomforestclassifier__criterion': 'gini',\n",
       "   'randomforestclassifier__max_features': 'sqrt',\n",
       "   'randomforestclassifier__n_estimators': 120,\n",
       "   'randomforestclassifier__n_jobs': -1}),\n",
       " ('LOF + Scaling',\n",
       "  0.48909952606635076,\n",
       "  {'randomforestclassifier__criterion': 'gini',\n",
       "   'randomforestclassifier__max_features': 'sqrt',\n",
       "   'randomforestclassifier__n_estimators': 120,\n",
       "   'randomforestclassifier__n_jobs': -1}),\n",
       " ('LOF + Scaling + RandomUnderSampler',\n",
       "  0.5659420289855072,\n",
       "  {'randomforestclassifier__criterion': 'entropy',\n",
       "   'randomforestclassifier__max_features': 'sqrt',\n",
       "   'randomforestclassifier__n_estimators': 120,\n",
       "   'randomforestclassifier__n_jobs': -1}),\n",
       " ('LOF + Scaling + SMOTE',\n",
       "  0.5535561268209084,\n",
       "  {'randomforestclassifier__criterion': 'gini',\n",
       "   'randomforestclassifier__max_features': 'sqrt',\n",
       "   'randomforestclassifier__n_estimators': 100,\n",
       "   'randomforestclassifier__n_jobs': -1}),\n",
       " ('LOF + Scaling + SMOTEENN',\n",
       "  0.5569805789666544,\n",
       "  {'randomforestclassifier__criterion': 'gini',\n",
       "   'randomforestclassifier__max_features': 'sqrt',\n",
       "   'randomforestclassifier__n_estimators': 80,\n",
       "   'randomforestclassifier__n_jobs': -1}),\n",
       " ('LOF + Scaling + PCA',\n",
       "  0.46808510638297873,\n",
       "  {'randomforestclassifier__criterion': 'entropy',\n",
       "   'randomforestclassifier__max_features': 'sqrt',\n",
       "   'randomforestclassifier__n_estimators': 80,\n",
       "   'randomforestclassifier__n_jobs': -1}),\n",
       " ('LOF + Scaling + PCA + RandomUnderSampler',\n",
       "  0.5591559909570459,\n",
       "  {'randomforestclassifier__criterion': 'entropy',\n",
       "   'randomforestclassifier__max_features': 'sqrt',\n",
       "   'randomforestclassifier__n_estimators': 100,\n",
       "   'randomforestclassifier__n_jobs': -1}),\n",
       " ('LOF + Scaling + PCA + SMOTE',\n",
       "  0.5298231180584121,\n",
       "  {'randomforestclassifier__criterion': 'entropy',\n",
       "   'randomforestclassifier__max_features': 'sqrt',\n",
       "   'randomforestclassifier__n_estimators': 120,\n",
       "   'randomforestclassifier__n_jobs': -1}),\n",
       " ('LOF + Scaling + PCA + SMOTEENN',\n",
       "  0.554267650158061,\n",
       "  {'randomforestclassifier__criterion': 'entropy',\n",
       "   'randomforestclassifier__max_features': 'sqrt',\n",
       "   'randomforestclassifier__n_estimators': 120,\n",
       "   'randomforestclassifier__n_jobs': -1})]"
      ]
     },
     "execution_count": 95,
     "metadata": {},
     "output_type": "execute_result"
    }
   ],
   "source": [
    "results_rf"
   ]
  },
  {
   "cell_type": "code",
   "execution_count": null,
   "metadata": {},
   "outputs": [],
   "source": [
    "def plot_summary(result):\n",
    "    \n",
    "    plot_x = []\n",
    "    plot_y = []\n",
    "\n",
    "    for r in result:\n",
    "        plot_x.append(r[1])\n",
    "        plot_y.append(r[0])\n",
    "        \n",
    "    sns.barplot(plot_x,plot_y)    "
   ]
  },
  {
   "cell_type": "code",
   "execution_count": null,
   "metadata": {},
   "outputs": [],
   "source": []
  },
  {
   "cell_type": "markdown",
   "metadata": {},
   "source": [
    "# KNN"
   ]
  },
  {
   "cell_type": "code",
   "execution_count": 100,
   "metadata": {},
   "outputs": [
    {
     "ename": "MemoryError",
     "evalue": "Unable to allocate 3.16 MiB for an array with shape (23, 18000) and data type int64",
     "output_type": "error",
     "traceback": [
      "\u001b[1;31m---------------------------------------------------------------------------\u001b[0m",
      "\u001b[1;31m_RemoteTraceback\u001b[0m                          Traceback (most recent call last)",
      "\u001b[1;31m_RemoteTraceback\u001b[0m: \n\"\"\"\nTraceback (most recent call last):\n  File \"C:\\Users\\Francesco\\anaconda3\\envs\\venv-mml\\lib\\site-packages\\joblib\\externals\\loky\\process_executor.py\", line 431, in _process_worker\n    r = call_item()\n  File \"C:\\Users\\Francesco\\anaconda3\\envs\\venv-mml\\lib\\site-packages\\joblib\\externals\\loky\\process_executor.py\", line 285, in __call__\n    return self.fn(*self.args, **self.kwargs)\n  File \"C:\\Users\\Francesco\\anaconda3\\envs\\venv-mml\\lib\\site-packages\\joblib\\_parallel_backends.py\", line 595, in __call__\n    return self.func(*args, **kwargs)\n  File \"C:\\Users\\Francesco\\anaconda3\\envs\\venv-mml\\lib\\site-packages\\joblib\\parallel.py\", line 262, in __call__\n    return [func(*args, **kwargs)\n  File \"C:\\Users\\Francesco\\anaconda3\\envs\\venv-mml\\lib\\site-packages\\joblib\\parallel.py\", line 262, in <listcomp>\n    return [func(*args, **kwargs)\n  File \"C:\\Users\\Francesco\\anaconda3\\envs\\venv-mml\\lib\\site-packages\\sklearn\\utils\\fixes.py\", line 222, in __call__\n    return self.function(*args, **kwargs)\n  File \"C:\\Users\\Francesco\\anaconda3\\envs\\venv-mml\\lib\\site-packages\\sklearn\\model_selection\\_validation.py\", line 590, in _fit_and_score\n    X_train, y_train = _safe_split(estimator, X, y, train)\n  File \"C:\\Users\\Francesco\\anaconda3\\envs\\venv-mml\\lib\\site-packages\\sklearn\\utils\\metaestimators.py\", line 211, in _safe_split\n    X_subset = _safe_indexing(X, indices)\n  File \"C:\\Users\\Francesco\\anaconda3\\envs\\venv-mml\\lib\\site-packages\\sklearn\\utils\\__init__.py\", line 342, in _safe_indexing\n    return _pandas_indexing(X, indices, indices_dtype, axis=axis)\n  File \"C:\\Users\\Francesco\\anaconda3\\envs\\venv-mml\\lib\\site-packages\\sklearn\\utils\\__init__.py\", line 193, in _pandas_indexing\n    return indexer[:, key] if axis else indexer[key]\n  File \"C:\\Users\\Francesco\\anaconda3\\envs\\venv-mml\\lib\\site-packages\\pandas\\core\\indexing.py\", line 895, in __getitem__\n    return self._getitem_axis(maybe_callable, axis=axis)\n  File \"C:\\Users\\Francesco\\anaconda3\\envs\\venv-mml\\lib\\site-packages\\pandas\\core\\indexing.py\", line 1492, in _getitem_axis\n    return self._get_list_axis(key, axis=axis)\n  File \"C:\\Users\\Francesco\\anaconda3\\envs\\venv-mml\\lib\\site-packages\\pandas\\core\\indexing.py\", line 1474, in _get_list_axis\n    return self.obj._take_with_is_copy(key, axis=axis)\n  File \"C:\\Users\\Francesco\\anaconda3\\envs\\venv-mml\\lib\\site-packages\\pandas\\core\\generic.py\", line 3600, in _take_with_is_copy\n    result = self.take(indices=indices, axis=axis)\n  File \"C:\\Users\\Francesco\\anaconda3\\envs\\venv-mml\\lib\\site-packages\\pandas\\core\\generic.py\", line 3586, in take\n    new_data = self._mgr.take(\n  File \"C:\\Users\\Francesco\\anaconda3\\envs\\venv-mml\\lib\\site-packages\\pandas\\core\\internals\\managers.py\", line 1474, in take\n    return self.reindex_indexer(\n  File \"C:\\Users\\Francesco\\anaconda3\\envs\\venv-mml\\lib\\site-packages\\pandas\\core\\internals\\managers.py\", line 1311, in reindex_indexer\n    new_blocks = [\n  File \"C:\\Users\\Francesco\\anaconda3\\envs\\venv-mml\\lib\\site-packages\\pandas\\core\\internals\\managers.py\", line 1312, in <listcomp>\n    blk.take_nd(\n  File \"C:\\Users\\Francesco\\anaconda3\\envs\\venv-mml\\lib\\site-packages\\pandas\\core\\internals\\blocks.py\", line 1404, in take_nd\n    new_values = algos.take_nd(\n  File \"C:\\Users\\Francesco\\anaconda3\\envs\\venv-mml\\lib\\site-packages\\pandas\\core\\algorithms.py\", line 1754, in take_nd\n    out = np.empty(out_shape, dtype=dtype)\nnumpy.core._exceptions._ArrayMemoryError: Unable to allocate 3.16 MiB for an array with shape (23, 18000) and data type int64\n\"\"\"",
      "\nThe above exception was the direct cause of the following exception:\n",
      "\u001b[1;31mMemoryError\u001b[0m                               Traceback (most recent call last)",
      "\u001b[1;32m<ipython-input-100-e6e4ef99aea8>\u001b[0m in \u001b[0;36m<module>\u001b[1;34m\u001b[0m\n\u001b[1;32m----> 1\u001b[1;33m \u001b[0mresults_knn\u001b[0m \u001b[1;33m=\u001b[0m \u001b[0mtraining_pipeline\u001b[0m\u001b[1;33m(\u001b[0m\u001b[0mdf\u001b[0m\u001b[1;33m,\u001b[0m \u001b[0mtests\u001b[0m\u001b[1;33m,\u001b[0m \u001b[0mmodels\u001b[0m\u001b[1;33m[\u001b[0m\u001b[1;34m\"knn\"\u001b[0m\u001b[1;33m]\u001b[0m\u001b[1;33m,\u001b[0m \u001b[0mparam_grids\u001b[0m\u001b[1;33m[\u001b[0m\u001b[1;34m\"knn\"\u001b[0m\u001b[1;33m]\u001b[0m\u001b[1;33m)\u001b[0m\u001b[1;33m\u001b[0m\u001b[1;33m\u001b[0m\u001b[0m\n\u001b[0m",
      "\u001b[1;32m<ipython-input-85-49b029469c60>\u001b[0m in \u001b[0;36mtraining_pipeline\u001b[1;34m(df, tests, model, param_grid, random_state)\u001b[0m\n\u001b[0;32m     46\u001b[0m \u001b[1;33m\u001b[0m\u001b[0m\n\u001b[0;32m     47\u001b[0m         \u001b[0mgridsearch\u001b[0m \u001b[1;33m=\u001b[0m \u001b[0mGridSearchCV\u001b[0m\u001b[1;33m(\u001b[0m\u001b[0mpipeline\u001b[0m\u001b[1;33m,\u001b[0m \u001b[0mparam_grid\u001b[0m\u001b[1;33m,\u001b[0m \u001b[0mscoring\u001b[0m\u001b[1;33m=\u001b[0m\u001b[1;34m'f1'\u001b[0m\u001b[1;33m,\u001b[0m \u001b[0mn_jobs\u001b[0m\u001b[1;33m=\u001b[0m\u001b[1;33m-\u001b[0m\u001b[1;36m1\u001b[0m\u001b[1;33m)\u001b[0m\u001b[1;33m\u001b[0m\u001b[1;33m\u001b[0m\u001b[0m\n\u001b[1;32m---> 48\u001b[1;33m         \u001b[0mgridsearch\u001b[0m\u001b[1;33m.\u001b[0m\u001b[0mfit\u001b[0m\u001b[1;33m(\u001b[0m\u001b[0mX_train\u001b[0m\u001b[1;33m,\u001b[0m \u001b[0my_train\u001b[0m\u001b[1;33m)\u001b[0m\u001b[1;33m\u001b[0m\u001b[1;33m\u001b[0m\u001b[0m\n\u001b[0m\u001b[0;32m     49\u001b[0m \u001b[1;33m\u001b[0m\u001b[0m\n\u001b[0;32m     50\u001b[0m         \u001b[0mbest_estimator\u001b[0m \u001b[1;33m=\u001b[0m \u001b[0mgridsearch\u001b[0m\u001b[1;33m.\u001b[0m\u001b[0mbest_estimator_\u001b[0m\u001b[1;33m\u001b[0m\u001b[1;33m\u001b[0m\u001b[0m\n",
      "\u001b[1;32m~\\anaconda3\\envs\\venv-mml\\lib\\site-packages\\sklearn\\utils\\validation.py\u001b[0m in \u001b[0;36minner_f\u001b[1;34m(*args, **kwargs)\u001b[0m\n\u001b[0;32m     61\u001b[0m             \u001b[0mextra_args\u001b[0m \u001b[1;33m=\u001b[0m \u001b[0mlen\u001b[0m\u001b[1;33m(\u001b[0m\u001b[0margs\u001b[0m\u001b[1;33m)\u001b[0m \u001b[1;33m-\u001b[0m \u001b[0mlen\u001b[0m\u001b[1;33m(\u001b[0m\u001b[0mall_args\u001b[0m\u001b[1;33m)\u001b[0m\u001b[1;33m\u001b[0m\u001b[1;33m\u001b[0m\u001b[0m\n\u001b[0;32m     62\u001b[0m             \u001b[1;32mif\u001b[0m \u001b[0mextra_args\u001b[0m \u001b[1;33m<=\u001b[0m \u001b[1;36m0\u001b[0m\u001b[1;33m:\u001b[0m\u001b[1;33m\u001b[0m\u001b[1;33m\u001b[0m\u001b[0m\n\u001b[1;32m---> 63\u001b[1;33m                 \u001b[1;32mreturn\u001b[0m \u001b[0mf\u001b[0m\u001b[1;33m(\u001b[0m\u001b[1;33m*\u001b[0m\u001b[0margs\u001b[0m\u001b[1;33m,\u001b[0m \u001b[1;33m**\u001b[0m\u001b[0mkwargs\u001b[0m\u001b[1;33m)\u001b[0m\u001b[1;33m\u001b[0m\u001b[1;33m\u001b[0m\u001b[0m\n\u001b[0m\u001b[0;32m     64\u001b[0m \u001b[1;33m\u001b[0m\u001b[0m\n\u001b[0;32m     65\u001b[0m             \u001b[1;31m# extra_args > 0\u001b[0m\u001b[1;33m\u001b[0m\u001b[1;33m\u001b[0m\u001b[1;33m\u001b[0m\u001b[0m\n",
      "\u001b[1;32m~\\anaconda3\\envs\\venv-mml\\lib\\site-packages\\sklearn\\model_selection\\_search.py\u001b[0m in \u001b[0;36mfit\u001b[1;34m(self, X, y, groups, **fit_params)\u001b[0m\n\u001b[0;32m    839\u001b[0m                 \u001b[1;32mreturn\u001b[0m \u001b[0mresults\u001b[0m\u001b[1;33m\u001b[0m\u001b[1;33m\u001b[0m\u001b[0m\n\u001b[0;32m    840\u001b[0m \u001b[1;33m\u001b[0m\u001b[0m\n\u001b[1;32m--> 841\u001b[1;33m             \u001b[0mself\u001b[0m\u001b[1;33m.\u001b[0m\u001b[0m_run_search\u001b[0m\u001b[1;33m(\u001b[0m\u001b[0mevaluate_candidates\u001b[0m\u001b[1;33m)\u001b[0m\u001b[1;33m\u001b[0m\u001b[1;33m\u001b[0m\u001b[0m\n\u001b[0m\u001b[0;32m    842\u001b[0m \u001b[1;33m\u001b[0m\u001b[0m\n\u001b[0;32m    843\u001b[0m             \u001b[1;31m# multimetric is determined here because in the case of a callable\u001b[0m\u001b[1;33m\u001b[0m\u001b[1;33m\u001b[0m\u001b[1;33m\u001b[0m\u001b[0m\n",
      "\u001b[1;32m~\\anaconda3\\envs\\venv-mml\\lib\\site-packages\\sklearn\\model_selection\\_search.py\u001b[0m in \u001b[0;36m_run_search\u001b[1;34m(self, evaluate_candidates)\u001b[0m\n\u001b[0;32m   1294\u001b[0m     \u001b[1;32mdef\u001b[0m \u001b[0m_run_search\u001b[0m\u001b[1;33m(\u001b[0m\u001b[0mself\u001b[0m\u001b[1;33m,\u001b[0m \u001b[0mevaluate_candidates\u001b[0m\u001b[1;33m)\u001b[0m\u001b[1;33m:\u001b[0m\u001b[1;33m\u001b[0m\u001b[1;33m\u001b[0m\u001b[0m\n\u001b[0;32m   1295\u001b[0m         \u001b[1;34m\"\"\"Search all candidates in param_grid\"\"\"\u001b[0m\u001b[1;33m\u001b[0m\u001b[1;33m\u001b[0m\u001b[0m\n\u001b[1;32m-> 1296\u001b[1;33m         \u001b[0mevaluate_candidates\u001b[0m\u001b[1;33m(\u001b[0m\u001b[0mParameterGrid\u001b[0m\u001b[1;33m(\u001b[0m\u001b[0mself\u001b[0m\u001b[1;33m.\u001b[0m\u001b[0mparam_grid\u001b[0m\u001b[1;33m)\u001b[0m\u001b[1;33m)\u001b[0m\u001b[1;33m\u001b[0m\u001b[1;33m\u001b[0m\u001b[0m\n\u001b[0m\u001b[0;32m   1297\u001b[0m \u001b[1;33m\u001b[0m\u001b[0m\n\u001b[0;32m   1298\u001b[0m \u001b[1;33m\u001b[0m\u001b[0m\n",
      "\u001b[1;32m~\\anaconda3\\envs\\venv-mml\\lib\\site-packages\\sklearn\\model_selection\\_search.py\u001b[0m in \u001b[0;36mevaluate_candidates\u001b[1;34m(candidate_params, cv, more_results)\u001b[0m\n\u001b[0;32m    793\u001b[0m                               n_splits, n_candidates, n_candidates * n_splits))\n\u001b[0;32m    794\u001b[0m \u001b[1;33m\u001b[0m\u001b[0m\n\u001b[1;32m--> 795\u001b[1;33m                 out = parallel(delayed(_fit_and_score)(clone(base_estimator),\n\u001b[0m\u001b[0;32m    796\u001b[0m                                                        \u001b[0mX\u001b[0m\u001b[1;33m,\u001b[0m \u001b[0my\u001b[0m\u001b[1;33m,\u001b[0m\u001b[1;33m\u001b[0m\u001b[1;33m\u001b[0m\u001b[0m\n\u001b[0;32m    797\u001b[0m                                                        \u001b[0mtrain\u001b[0m\u001b[1;33m=\u001b[0m\u001b[0mtrain\u001b[0m\u001b[1;33m,\u001b[0m \u001b[0mtest\u001b[0m\u001b[1;33m=\u001b[0m\u001b[0mtest\u001b[0m\u001b[1;33m,\u001b[0m\u001b[1;33m\u001b[0m\u001b[1;33m\u001b[0m\u001b[0m\n",
      "\u001b[1;32m~\\anaconda3\\envs\\venv-mml\\lib\\site-packages\\joblib\\parallel.py\u001b[0m in \u001b[0;36m__call__\u001b[1;34m(self, iterable)\u001b[0m\n\u001b[0;32m   1052\u001b[0m \u001b[1;33m\u001b[0m\u001b[0m\n\u001b[0;32m   1053\u001b[0m             \u001b[1;32mwith\u001b[0m \u001b[0mself\u001b[0m\u001b[1;33m.\u001b[0m\u001b[0m_backend\u001b[0m\u001b[1;33m.\u001b[0m\u001b[0mretrieval_context\u001b[0m\u001b[1;33m(\u001b[0m\u001b[1;33m)\u001b[0m\u001b[1;33m:\u001b[0m\u001b[1;33m\u001b[0m\u001b[1;33m\u001b[0m\u001b[0m\n\u001b[1;32m-> 1054\u001b[1;33m                 \u001b[0mself\u001b[0m\u001b[1;33m.\u001b[0m\u001b[0mretrieve\u001b[0m\u001b[1;33m(\u001b[0m\u001b[1;33m)\u001b[0m\u001b[1;33m\u001b[0m\u001b[1;33m\u001b[0m\u001b[0m\n\u001b[0m\u001b[0;32m   1055\u001b[0m             \u001b[1;31m# Make sure that we get a last message telling us we are done\u001b[0m\u001b[1;33m\u001b[0m\u001b[1;33m\u001b[0m\u001b[1;33m\u001b[0m\u001b[0m\n\u001b[0;32m   1056\u001b[0m             \u001b[0melapsed_time\u001b[0m \u001b[1;33m=\u001b[0m \u001b[0mtime\u001b[0m\u001b[1;33m.\u001b[0m\u001b[0mtime\u001b[0m\u001b[1;33m(\u001b[0m\u001b[1;33m)\u001b[0m \u001b[1;33m-\u001b[0m \u001b[0mself\u001b[0m\u001b[1;33m.\u001b[0m\u001b[0m_start_time\u001b[0m\u001b[1;33m\u001b[0m\u001b[1;33m\u001b[0m\u001b[0m\n",
      "\u001b[1;32m~\\anaconda3\\envs\\venv-mml\\lib\\site-packages\\joblib\\parallel.py\u001b[0m in \u001b[0;36mretrieve\u001b[1;34m(self)\u001b[0m\n\u001b[0;32m    931\u001b[0m             \u001b[1;32mtry\u001b[0m\u001b[1;33m:\u001b[0m\u001b[1;33m\u001b[0m\u001b[1;33m\u001b[0m\u001b[0m\n\u001b[0;32m    932\u001b[0m                 \u001b[1;32mif\u001b[0m \u001b[0mgetattr\u001b[0m\u001b[1;33m(\u001b[0m\u001b[0mself\u001b[0m\u001b[1;33m.\u001b[0m\u001b[0m_backend\u001b[0m\u001b[1;33m,\u001b[0m \u001b[1;34m'supports_timeout'\u001b[0m\u001b[1;33m,\u001b[0m \u001b[1;32mFalse\u001b[0m\u001b[1;33m)\u001b[0m\u001b[1;33m:\u001b[0m\u001b[1;33m\u001b[0m\u001b[1;33m\u001b[0m\u001b[0m\n\u001b[1;32m--> 933\u001b[1;33m                     \u001b[0mself\u001b[0m\u001b[1;33m.\u001b[0m\u001b[0m_output\u001b[0m\u001b[1;33m.\u001b[0m\u001b[0mextend\u001b[0m\u001b[1;33m(\u001b[0m\u001b[0mjob\u001b[0m\u001b[1;33m.\u001b[0m\u001b[0mget\u001b[0m\u001b[1;33m(\u001b[0m\u001b[0mtimeout\u001b[0m\u001b[1;33m=\u001b[0m\u001b[0mself\u001b[0m\u001b[1;33m.\u001b[0m\u001b[0mtimeout\u001b[0m\u001b[1;33m)\u001b[0m\u001b[1;33m)\u001b[0m\u001b[1;33m\u001b[0m\u001b[1;33m\u001b[0m\u001b[0m\n\u001b[0m\u001b[0;32m    934\u001b[0m                 \u001b[1;32melse\u001b[0m\u001b[1;33m:\u001b[0m\u001b[1;33m\u001b[0m\u001b[1;33m\u001b[0m\u001b[0m\n\u001b[0;32m    935\u001b[0m                     \u001b[0mself\u001b[0m\u001b[1;33m.\u001b[0m\u001b[0m_output\u001b[0m\u001b[1;33m.\u001b[0m\u001b[0mextend\u001b[0m\u001b[1;33m(\u001b[0m\u001b[0mjob\u001b[0m\u001b[1;33m.\u001b[0m\u001b[0mget\u001b[0m\u001b[1;33m(\u001b[0m\u001b[1;33m)\u001b[0m\u001b[1;33m)\u001b[0m\u001b[1;33m\u001b[0m\u001b[1;33m\u001b[0m\u001b[0m\n",
      "\u001b[1;32m~\\anaconda3\\envs\\venv-mml\\lib\\site-packages\\joblib\\_parallel_backends.py\u001b[0m in \u001b[0;36mwrap_future_result\u001b[1;34m(future, timeout)\u001b[0m\n\u001b[0;32m    540\u001b[0m         AsyncResults.get from multiprocessing.\"\"\"\n\u001b[0;32m    541\u001b[0m         \u001b[1;32mtry\u001b[0m\u001b[1;33m:\u001b[0m\u001b[1;33m\u001b[0m\u001b[1;33m\u001b[0m\u001b[0m\n\u001b[1;32m--> 542\u001b[1;33m             \u001b[1;32mreturn\u001b[0m \u001b[0mfuture\u001b[0m\u001b[1;33m.\u001b[0m\u001b[0mresult\u001b[0m\u001b[1;33m(\u001b[0m\u001b[0mtimeout\u001b[0m\u001b[1;33m=\u001b[0m\u001b[0mtimeout\u001b[0m\u001b[1;33m)\u001b[0m\u001b[1;33m\u001b[0m\u001b[1;33m\u001b[0m\u001b[0m\n\u001b[0m\u001b[0;32m    543\u001b[0m         \u001b[1;32mexcept\u001b[0m \u001b[0mCfTimeoutError\u001b[0m \u001b[1;32mas\u001b[0m \u001b[0me\u001b[0m\u001b[1;33m:\u001b[0m\u001b[1;33m\u001b[0m\u001b[1;33m\u001b[0m\u001b[0m\n\u001b[0;32m    544\u001b[0m             \u001b[1;32mraise\u001b[0m \u001b[0mTimeoutError\u001b[0m \u001b[1;32mfrom\u001b[0m \u001b[0me\u001b[0m\u001b[1;33m\u001b[0m\u001b[1;33m\u001b[0m\u001b[0m\n",
      "\u001b[1;32m~\\anaconda3\\envs\\venv-mml\\lib\\concurrent\\futures\\_base.py\u001b[0m in \u001b[0;36mresult\u001b[1;34m(self, timeout)\u001b[0m\n\u001b[0;32m    436\u001b[0m                     \u001b[1;32mraise\u001b[0m \u001b[0mCancelledError\u001b[0m\u001b[1;33m(\u001b[0m\u001b[1;33m)\u001b[0m\u001b[1;33m\u001b[0m\u001b[1;33m\u001b[0m\u001b[0m\n\u001b[0;32m    437\u001b[0m                 \u001b[1;32melif\u001b[0m \u001b[0mself\u001b[0m\u001b[1;33m.\u001b[0m\u001b[0m_state\u001b[0m \u001b[1;33m==\u001b[0m \u001b[0mFINISHED\u001b[0m\u001b[1;33m:\u001b[0m\u001b[1;33m\u001b[0m\u001b[1;33m\u001b[0m\u001b[0m\n\u001b[1;32m--> 438\u001b[1;33m                     \u001b[1;32mreturn\u001b[0m \u001b[0mself\u001b[0m\u001b[1;33m.\u001b[0m\u001b[0m__get_result\u001b[0m\u001b[1;33m(\u001b[0m\u001b[1;33m)\u001b[0m\u001b[1;33m\u001b[0m\u001b[1;33m\u001b[0m\u001b[0m\n\u001b[0m\u001b[0;32m    439\u001b[0m \u001b[1;33m\u001b[0m\u001b[0m\n\u001b[0;32m    440\u001b[0m                 \u001b[0mself\u001b[0m\u001b[1;33m.\u001b[0m\u001b[0m_condition\u001b[0m\u001b[1;33m.\u001b[0m\u001b[0mwait\u001b[0m\u001b[1;33m(\u001b[0m\u001b[0mtimeout\u001b[0m\u001b[1;33m)\u001b[0m\u001b[1;33m\u001b[0m\u001b[1;33m\u001b[0m\u001b[0m\n",
      "\u001b[1;32m~\\anaconda3\\envs\\venv-mml\\lib\\concurrent\\futures\\_base.py\u001b[0m in \u001b[0;36m__get_result\u001b[1;34m(self)\u001b[0m\n\u001b[0;32m    388\u001b[0m         \u001b[1;32mif\u001b[0m \u001b[0mself\u001b[0m\u001b[1;33m.\u001b[0m\u001b[0m_exception\u001b[0m\u001b[1;33m:\u001b[0m\u001b[1;33m\u001b[0m\u001b[1;33m\u001b[0m\u001b[0m\n\u001b[0;32m    389\u001b[0m             \u001b[1;32mtry\u001b[0m\u001b[1;33m:\u001b[0m\u001b[1;33m\u001b[0m\u001b[1;33m\u001b[0m\u001b[0m\n\u001b[1;32m--> 390\u001b[1;33m                 \u001b[1;32mraise\u001b[0m \u001b[0mself\u001b[0m\u001b[1;33m.\u001b[0m\u001b[0m_exception\u001b[0m\u001b[1;33m\u001b[0m\u001b[1;33m\u001b[0m\u001b[0m\n\u001b[0m\u001b[0;32m    391\u001b[0m             \u001b[1;32mfinally\u001b[0m\u001b[1;33m:\u001b[0m\u001b[1;33m\u001b[0m\u001b[1;33m\u001b[0m\u001b[0m\n\u001b[0;32m    392\u001b[0m                 \u001b[1;31m# Break a reference cycle with the exception in self._exception\u001b[0m\u001b[1;33m\u001b[0m\u001b[1;33m\u001b[0m\u001b[1;33m\u001b[0m\u001b[0m\n",
      "\u001b[1;31mMemoryError\u001b[0m: Unable to allocate 3.16 MiB for an array with shape (23, 18000) and data type int64"
     ]
    }
   ],
   "source": [
    "results_knn = training_pipeline(df, tests, models[\"knn\"], param_grids[\"knn\"])"
   ]
  },
  {
   "cell_type": "code",
   "execution_count": null,
   "metadata": {},
   "outputs": [],
   "source": [
    "results_knn"
   ]
  },
  {
   "cell_type": "code",
   "execution_count": 65,
   "metadata": {},
   "outputs": [
    {
     "data": {
      "text/plain": [
       "[<matplotlib.lines.Line2D at 0x1fb0359efd0>]"
      ]
     },
     "execution_count": 65,
     "metadata": {},
     "output_type": "execute_result"
    },
    {
     "data": {
      "image/png": "[encoded data removed]",
      "text/plain": [
       "<Figure size 432x288 with 1 Axes>"
      ]
     },
     "metadata": {},
     "output_type": "display_data"
    }
   ],
   "source": [
    "# choose the value of K\n",
    "\n",
    "k_list = [i for i in range(3,50,2)]\n",
    "f1_list = []\n",
    "\n",
    "y, X = df[\"default payment next month\"], df.drop(\"default payment next month\", axis=1)\n",
    "X_train, X_test, y_train, y_test = split_data(X, y, 42)\n",
    "\n",
    "for k in k_list:\n",
    "    neigh = KNeighborsClassifier(n_neighbors=k)\n",
    "    neigh.fit(X_train, y_train)\n",
    "    y_pred = neigh.predict(X_test)\n",
    "    f1_list.append(f1_score(y_test,y_pred))\n",
    "    \n",
    "\n",
    "plt.plot(k_list,f1_list)    "
   ]
  },
  {
   "cell_type": "code",
   "execution_count": 64,
   "metadata": {},
   "outputs": [
    {
     "data": {
      "text/plain": [
       "[<matplotlib.lines.Line2D at 0x1fb03b6c1f0>]"
      ]
     },
     "execution_count": 64,
     "metadata": {},
     "output_type": "execute_result"
    },
    {
     "data": {
      "image/png": "[encoded data removed]",
      "text/plain": [
       "<Figure size 432x288 with 1 Axes>"
      ]
     },
     "metadata": {},
     "output_type": "display_data"
    }
   ],
   "source": [
    "# choose the value of K\n",
    "\n",
    "k_list = [i for i in range(3,50)]\n",
    "f1_list = []\n",
    "\n",
    "X_filt, y_filt = drop_correlated_data(df)\n",
    "X_train, X_test, y_train, y_test = split_data(X_filt, y_filt, 42)\n",
    "\n",
    "for k in k_list:\n",
    "    neigh = KNeighborsClassifier(n_neighbors=k)\n",
    "    neigh.fit(X_train, y_train)\n",
    "    y_pred = neigh.predict(X_test)\n",
    "    f1_list.append(f1_score(y_test,y_pred))\n",
    "    \n",
    "\n",
    "plt.plot(k_list,f1_list)    "
   ]
  },
  {
   "cell_type": "markdown",
   "metadata": {},
   "source": [
    "## SVM"
   ]
  },
  {
   "cell_type": "code",
   "execution_count": null,
   "metadata": {},
   "outputs": [],
   "source": [
    "results_svc = training_pipeline(df, tests, models[\"svc\"], param_grids[\"svc\"])"
   ]
  },
  {
   "cell_type": "code",
   "execution_count": null,
   "metadata": {},
   "outputs": [],
   "source": [
    "results_svc"
   ]
  },
  {
   "cell_type": "code",
   "execution_count": null,
   "metadata": {},
   "outputs": [],
   "source": []
  }
 ],
 "metadata": {
  "kernelspec": {
   "display_name": "venv-mml-2",
   "language": "python",
   "name": "venv-mml"
  },
  "language_info": {
   "codemirror_mode": {
    "name": "ipython",
    "version": 3
   },
   "file_extension": ".py",
   "mimetype": "text/x-python",
   "name": "python",
   "nbconvert_exporter": "python",
   "pygments_lexer": "ipython3",
   "version": "3.9.5"
  }
 },
 "nbformat": 4,
 "nbformat_minor": 4
}
