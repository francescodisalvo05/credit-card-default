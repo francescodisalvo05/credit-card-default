{
 "cells": [
  {
   "cell_type": "code",
   "execution_count": 1,
   "metadata": {},
   "outputs": [],
   "source": [
    "from sklearn.decomposition import PCA\n",
    "\n",
    "import matplotlib.pyplot as plt\n",
    "import seaborn as sns\n",
    "import pandas as pd\n",
    "import numpy as np\n",
    "from mlxtend.plotting import plot_decision_regions\n",
    "\n",
    "from imblearn.over_sampling import SMOTE\n",
    "from imblearn.under_sampling import RandomUnderSampler\n",
    "from imblearn.combine import SMOTEENN\n",
    "from sklearn.preprocessing import StandardScaler\n",
    "from sklearn.neighbors import LocalOutlierFactor\n",
    "\n",
    "\n",
    "from sklearn.ensemble import RandomForestClassifier\n",
    "from sklearn.svm import SVC\n",
    "from sklearn.neighbors import KNeighborsClassifier\n",
    "from sklearn.linear_model import LogisticRegression\n",
    "\n",
    "from imblearn.pipeline import make_pipeline  as imb_make_pipeline\n",
    "from sklearn.pipeline import make_pipeline\n",
    "from imblearn import FunctionSampler\n",
    "\n",
    "from sklearn.model_selection import train_test_split, GridSearchCV, StratifiedKFold\n",
    "\n",
    "from sklearn.metrics import classification_report, f1_score, auc, accuracy_score\n",
    "from sklearn.metrics import confusion_matrix,roc_auc_score,roc_curve\n",
    "\n",
    "from prettytable import PrettyTable\n",
    "from collections import Counter\n",
    "\n",
    "%matplotlib inline\n",
    "sns.set_style('darkgrid')\n",
    "\n",
    "import warnings\n",
    "warnings.filterwarnings(\"ignore\")\n",
    "\n",
    "random_state = 42"
   ]
  },
  {
   "cell_type": "code",
   "execution_count": 2,
   "metadata": {},
   "outputs": [],
   "source": [
    "df = pd.read_csv('../data/default-of-credit-card-clients.csv')\n",
    "df = df.rename(columns={\"PAY_0\": \"PAY_1\"}, errors=\"raise\")\n",
    "df.drop(columns=['ID'],inplace=True)"
   ]
  },
  {
   "cell_type": "markdown",
   "metadata": {},
   "source": [
    "## Feature Engineering"
   ]
  },
  {
   "cell_type": "code",
   "execution_count": 4,
   "metadata": {},
   "outputs": [
    {
     "data": {
      "text/plain": [
       "default payment next month    1.00\n",
       "PAY_1                         0.32\n",
       "PAY_2                         0.26\n",
       "PAY_3                         0.24\n",
       "PAY_4                         0.22\n",
       "PAY_5                         0.20\n",
       "PAY_6                         0.19\n",
       "LIMIT_BAL                     0.15\n",
       "PAY_AMT1                      0.07\n",
       "PAY_AMT2                      0.06\n",
       "PAY_AMT3                      0.06\n",
       "PAY_AMT4                      0.06\n",
       "PAY_AMT5                      0.06\n",
       "PAY_AMT6                      0.05\n",
       "SEX                           0.04\n",
       "EDUCATION                     0.03\n",
       "MARRIAGE                      0.02\n",
       "BILL_AMT1                     0.02\n",
       "AGE                           0.01\n",
       "BILL_AMT3                     0.01\n",
       "BILL_AMT4                     0.01\n",
       "BILL_AMT5                     0.01\n",
       "BILL_AMT6                     0.01\n",
       "BILL_AMT2                     0.01\n",
       "Name: default payment next month, dtype: float64"
      ]
     },
     "execution_count": 4,
     "metadata": {},
     "output_type": "execute_result"
    }
   ],
   "source": [
    "round(abs(df.corr()['default payment next month']),2).sort_values(ascending=False)\n",
    "\n",
    "# get the first seven rows"
   ]
  },
  {
   "cell_type": "code",
   "execution_count": 3,
   "metadata": {},
   "outputs": [
    {
     "data": {
      "text/plain": [
       "array(['PAY_AMT1', 'PAY_AMT2', 'PAY_AMT3', 'PAY_AMT4', 'PAY_AMT5',\n",
       "       'PAY_AMT6', 'SEX', 'EDUCATION', 'MARRIAGE', 'BILL_AMT1', 'AGE',\n",
       "       'BILL_AMT3', 'BILL_AMT4', 'BILL_AMT5', 'BILL_AMT6', 'BILL_AMT2'],\n",
       "      dtype=object)"
      ]
     },
     "execution_count": 3,
     "metadata": {},
     "output_type": "execute_result"
    }
   ],
   "source": [
    "low_corr_cols = pd.Series(round(abs(df.corr()['default payment next month']),2).sort_values(ascending=False)[8:].index)\n",
    "low_corr_cols.values"
   ]
  },
  {
   "cell_type": "markdown",
   "metadata": {},
   "source": [
    "## Utils"
   ]
  },
  {
   "cell_type": "code",
   "execution_count": 4,
   "metadata": {},
   "outputs": [],
   "source": [
    "def drop_correlated_data(df):    \n",
    "    # remove the values that have a lower correlation in absolute value\n",
    "    low_corr_cols = pd.Series(round(abs(df.corr()['default payment next month']),2).sort_values(ascending=False)[8:].index)\n",
    "    df = df.drop(columns=low_corr_cols)\n",
    "    \n",
    "    y, X = df[\"default payment next month\"], df.drop(\"default payment next month\", axis=1)\n",
    "    \n",
    "    return X,y\n",
    "\n",
    "def split_data(X,y, random_state=42):\n",
    "        \n",
    "    X_train, X_test, y_train, y_test = train_test_split(X, y, test_size= 0.25,\n",
    "                                                        stratify= y, random_state=random_state)\n",
    "\n",
    "    return X_train, X_test, y_train, y_test\n",
    "\n",
    "def report(y_true, y_pred, title = \"\", \n",
    "           params = None, show_cm = True, show_params = True):\n",
    "\n",
    "    nl = '\\n'\n",
    "    sp = \"*\"*len(title)\n",
    "    \n",
    "#     print(\"__\"*30 + nl)\n",
    "    if title:\n",
    "        title = \"Classification report for \" + title + \" on yet-unseen data\"\n",
    "        sp = \"*\"*len(title)\n",
    "        print(sp + nl + title + nl + sp +nl)\n",
    "    \n",
    "    acc = accuracy_score(y_true, y_pred)\n",
    "    f_score = f1_score(y_true, y_pred)\n",
    "    print(\"Accuracy: {:.3f}\".format(acc))\n",
    "    print(\"f-score: {:.3f}\".format(f_score))\n",
    "    \n",
    "    if params and show_params:\n",
    "        new_params = {}\n",
    "        for k in params:\n",
    "            new_params[k.split(\"__\")[-1]] = params[k]\n",
    "            \n",
    "        print(\"\\nBest Parameters:\")\n",
    "#         pprint(new_params, indent = 4)\n",
    "        print(grid_search.best_estimator_)\n",
    "        \n",
    "#     print(classification_report(y_true, y_pred))\n",
    "    if show_cm:\n",
    "        plt.figure(figsize = (6,5))\n",
    "        cm = confusion_matrix(y_true, y_pred)\n",
    "        sns.heatmap(cm, annot = True, \n",
    "                    cmap = 'YlGnBu', \n",
    "                    annot_kws={\"size\": 18},\n",
    "                    linecolor = 'w',\n",
    "                    linewidth = 4\n",
    "                   )\n",
    "        plt.title(\"Confusion Matrix\")\n",
    "        plt.xlabel(\"Predicted labels\")\n",
    "        plt.ylabel(\"True labels\")\n",
    "    \n",
    "    return (acc, f_score)\n",
    "    \n",
    "scores_dict = {}\n",
    "gs_trained_models =  {}\n",
    "\n",
    "def outliers_iqr(X,y):\n",
    "    \n",
    "    Q1 = df.quantile(0.25)\n",
    "    Q3 = df.quantile(0.75)\n",
    "\n",
    "    IQR = Q3 - Q1\n",
    "    \n",
    "    df_out = df[~((df < (Q1 - 1.5 * IQR)) |(df > (Q3 + 1.5 * IQR))).any(axis=1)]\n",
    "    \n",
    "    y = df_out[\"default payment next month\"]\n",
    "    X = df_out.drop(columns=[\"default payment next month\"])\n",
    "    \n",
    "    return X, y\n",
    "\n",
    "def outliers_lof(X,y, n_neighbors=20):\n",
    "    \n",
    "    y = np.asarray(y)\n",
    "    X = np.asarray(X)\n",
    "\n",
    "    outliers = LocalOutlierFactor(n_neighbors = n_neighbors, n_jobs = -1).fit_predict(X)\n",
    "    X = X[outliers == 1, :]\n",
    "    y = y[outliers == 1]\n",
    "\n",
    "    return X, y"
   ]
  },
  {
   "cell_type": "code",
   "execution_count": 7,
   "metadata": {},
   "outputs": [],
   "source": [
    "y, X = df[\"default payment next month\"], df.drop(\"default payment next month\", axis=1)\n",
    "X_2, y_2 = outliers_iqr(X,y)\n",
    "X_3, y_3 = outliers_lof(X,y)"
   ]
  },
  {
   "cell_type": "code",
   "execution_count": 8,
   "metadata": {},
   "outputs": [
    {
     "data": {
      "text/plain": [
       "(Counter({1: 6636, 0: 23364}),\n",
       " Counter({0: 10993}),\n",
       " Counter({1: 5282, 0: 18174}))"
      ]
     },
     "execution_count": 8,
     "metadata": {},
     "output_type": "execute_result"
    }
   ],
   "source": [
    "Counter(y), Counter(y_2), Counter(y_3)"
   ]
  },
  {
   "cell_type": "code",
   "execution_count": 9,
   "metadata": {},
   "outputs": [
    {
     "data": {
      "text/plain": [
       "((10993, 23), (23456, 23))"
      ]
     },
     "execution_count": 9,
     "metadata": {},
     "output_type": "execute_result"
    }
   ],
   "source": [
    "X_2.shape, X_3.shape"
   ]
  },
  {
   "cell_type": "code",
   "execution_count": 5,
   "metadata": {},
   "outputs": [],
   "source": [
    "random_state = 42\n",
    "\n",
    "scaler = StandardScaler()\n",
    "\n",
    "pca = PCA(n_components=11, random_state=random_state)\n",
    "\n",
    "under_s = RandomUnderSampler(sampling_strategy=0.8, random_state=random_state)\n",
    "over_s = SMOTE(sampling_strategy='minority', random_state=random_state)\n",
    "smoteenn = SMOTEENN(random_state=random_state)\n",
    "\n",
    "cases = []\n",
    "\n",
    "param_grids = {\n",
    "    \"rf\" : {\n",
    "        \"randomforestclassifier__n_estimators\":[80,100,120],\n",
    "        \"randomforestclassifier__criterion\":[\"gini\", \"entropy\"],\n",
    "        \"randomforestclassifier__max_features\":['sqrt','log2'],\n",
    "        \"randomforestclassifier__n_jobs\": [-1],\n",
    "    },\n",
    "    \"svc\" : {\n",
    "        \"svc__kernel\": ['linear', 'rbf', 'poly'],\n",
    "        \"svc__gamma\" :['scale', 'auto'],\n",
    "        \"svc__C\": [0.8, 1.0,1.2] \n",
    "    },\n",
    "    \"knn\" : {\n",
    "        \"kneighborsclassifier__n_neighbors\": [10, 50, 75],\n",
    "        \"kneighborsclassifier__weights\": [\"uniform\", \"distance\"],\n",
    "        \"kneighborsclassifier__algorithm\": [\"auto\", \"ball_tree\", \"kd_tree\"],\n",
    "        \"kneighborsclassifier__n_jobs\": [-1],\n",
    "    },\n",
    "    \"logisticregression\" : {\n",
    "        \"logisticregression__penalty\": ['l1','l2'],\n",
    "        \"logisticregression__tol\": [1e-1, 1e-2, 1e-3, 1e-4],\n",
    "        \"logisticregression__C\": [0.6,0.8, 1.0,1.2, 1.4],\n",
    "        \"logisticregression__solver\" : ['saga'],\n",
    "        \"logisticregression__max_iter\" : [500]\n",
    "    }\n",
    "}\n",
    "\n",
    "models = {\n",
    "    \"rf\" : RandomForestClassifier(random_state=random_state),\n",
    "    \"knn\" : KNeighborsClassifier(n_neighbors=9),\n",
    "    \"svc\" : SVC(),\n",
    "    \"logistic\": LogisticRegression(random_state=random_state)\n",
    "} "
   ]
  },
  {
   "cell_type": "code",
   "execution_count": 15,
   "metadata": {},
   "outputs": [],
   "source": [
    "def training_pipeline(df, tests, model, param_grid, random_state=42):\n",
    "    \n",
    "    y, X = df[\"default payment next month\"], df.drop(\"default payment next month\", axis=1)\n",
    "    \n",
    "    results = []\n",
    "    counter = 1\n",
    "    \n",
    "    for curr_test in tests:\n",
    "        \n",
    "        outliers_option, scaling, pca, resampling = curr_test\n",
    "    \n",
    "        field_0 = ''\n",
    "\n",
    "        if outliers_option:\n",
    "\n",
    "            if outliers_option == \"iqr\":\n",
    "                # update\n",
    "                X, y = outliers_iqr(df)\n",
    "                field_0 += 'IQR + '\n",
    "\n",
    "            if outliers_option == \"lof\":\n",
    "                X, y = outliers_lof(X,y)\n",
    "                field_0 += 'LOF + '\n",
    "\n",
    "\n",
    "        # both imb_make_pipeline and make_pipeline have some problems \n",
    "        # with giving an array as input. So I manually check for each combinations\n",
    "        if pca and resampling and scaling:\n",
    "            field_0 += f'Scaling + PCA + {str(resampling).split(\"(\")[0]}'\n",
    "            pipeline = imb_make_pipeline(scaler,pca,resampling,model)\n",
    "\n",
    "        elif not pca and resampling and scaling:\n",
    "            field_0 += f'Scaling + {str(resampling).split(\"(\")[0]}'\n",
    "            pipeline = imb_make_pipeline(scaler,resampling,model)\n",
    "\n",
    "        elif pca and not resampling and scaling:\n",
    "            field_0 += f'Scaling + PCA'\n",
    "            pipeline = make_pipeline(scaler,pca,model)\n",
    "\n",
    "        elif not pca and not resampling and scaling:\n",
    "            field_0 += f'Scaling'\n",
    "            pipeline = make_pipeline(scaler,model)\n",
    "        elif not pca and not resampling and not scaling:\n",
    "            pipeline = make_pipeline(model)\n",
    "\n",
    "        X_train, X_test, y_train, y_test = split_data(X, y, 42)\n",
    "\n",
    "        gridsearch = GridSearchCV(pipeline, param_grid, scoring='f1', n_jobs=-1)\n",
    "        gridsearch.fit(X_train, y_train)\n",
    "\n",
    "        best_estimator = gridsearch.best_estimator_\n",
    "\n",
    "        y_pred = best_estimator.predict(X_test)\n",
    "        f1 = f1_score(y_test, y_pred)\n",
    "        curr_result = (field_0, f1, gridsearch.best_params_)\n",
    "\n",
    "        results.append(curr_result)\n",
    "        \n",
    "        print(f\"Done {counter}/{len(tests)}\")\n",
    "        counter += 1\n",
    "        \n",
    "    return results, y_pred, y_test\n",
    "\n",
    "def plot_summary(result,y_pred, y_test):\n",
    "    \n",
    "    fig = plt.figure(constrained_layout=False,figsize=(14,4))\n",
    "    gs1 = fig.add_gridspec(nrows=1, ncols=6, left=0.1, right=0.90, wspace=0.5, hspace=0.5)\n",
    "    ax1 = fig.add_subplot(gs1[0,0:3])\n",
    "    ax2 = fig.add_subplot(gs1[0,3:5])\n",
    "    \n",
    "    \n",
    "    plot_x = []\n",
    "    plot_y = []\n",
    "    \n",
    "    for r in result:\n",
    "        plot_x.append(r[1])\n",
    "        plot_y.append(r[0])\n",
    "\n",
    "    temp_df = pd.DataFrame({'x':plot_x, 'y' :plot_y}).sort_values(['x'], ascending=False)\n",
    "    \n",
    "    sns.barplot(x='x',y='y',data=temp_df, palette='viridis',ax=ax1)\n",
    "    ax1.set_xlabel(\"F1-score\", fontsize=\"14\")\n",
    "    ax1.set_ylabel(\"\")\n",
    "    ax1.set_yticklabels(temp_df.y,fontsize=13)\n",
    "    \n",
    "    cm = confusion_matrix(y_test, y_pred)\n",
    "    sns.heatmap(cm, annot = True, \n",
    "                cmap = 'viridis', \n",
    "                annot_kws={\"size\": 14},\n",
    "                linecolor = 'w',\n",
    "                linewidth = 4,ax=ax2,\n",
    "                fmt='d'\n",
    "               )\n",
    "    \n",
    "    ax2.set_xlabel(\"Predicted labels\",fontsize=\"14\")\n",
    "    ax2.set_ylabel(\"True labels\",fontsize=\"14\")\n",
    "    return plt"
   ]
  },
  {
   "cell_type": "markdown",
   "metadata": {},
   "source": [
    "# Random Forest"
   ]
  },
  {
   "cell_type": "code",
   "execution_count": null,
   "metadata": {},
   "outputs": [
    {
     "name": "stdout",
     "output_type": "stream",
     "text": [
      "Done 1/16\n",
      "Done 2/16\n",
      "Done 3/16\n",
      "Done 4/16\n",
      "Done 5/16\n",
      "Done 6/16\n",
      "Done 7/16\n"
     ]
    }
   ],
   "source": [
    "# outliers_option, scaling, pca, resampling = curr_test\n",
    "# SET ALL COMBINATIONS\n",
    "\n",
    "pca_options = [None, pca]\n",
    "scaling = [True]\n",
    "outliers_options = [None, \"lof\"]\n",
    "resampling_options = [None, under_s, over_s, smoteenn]\n",
    "\n",
    "tests = []\n",
    "\n",
    "for o in outliers_options:\n",
    "    for s in scaling:\n",
    "        for p in pca_options:\n",
    "            for r in resampling_options:\n",
    "                tests.append([o,s,p,r])\n",
    "\n",
    "# outliers_option, scaling, pca, resampling = curr_test\n",
    "results_rf, y_pred_rf, y_test_rf = training_pipeline(df, tests, models[\"rf\"], param_grids[\"rf\"])"
   ]
  },
  {
   "cell_type": "code",
   "execution_count": null,
   "metadata": {},
   "outputs": [],
   "source": [
    "sns.set_style('darkgrid')\n",
    "plt_rf = plot_summary(results_rf,y_pred_rf, y_test_rf)\n",
    "plt_rf.savefig('../images/18-rf_results.svg')\n",
    "plt_rf.show()"
   ]
  },
  {
   "cell_type": "code",
   "execution_count": 76,
   "metadata": {
    "collapsed": true,
    "jupyter": {
     "outputs_hidden": true
    }
   },
   "outputs": [
    {
     "ename": "KeyboardInterrupt",
     "evalue": "",
     "output_type": "error",
     "traceback": [
      "\u001b[1;31m---------------------------------------------------------------------------\u001b[0m",
      "\u001b[1;31mKeyboardInterrupt\u001b[0m                         Traceback (most recent call last)",
      "\u001b[1;32m<ipython-input-76-da7999872649>\u001b[0m in \u001b[0;36m<module>\u001b[1;34m\u001b[0m\n\u001b[0;32m     16\u001b[0m \u001b[1;33m\u001b[0m\u001b[0m\n\u001b[0;32m     17\u001b[0m \u001b[1;31m# outliers_option, scaling, pca, resampling = curr_test\u001b[0m\u001b[1;33m\u001b[0m\u001b[1;33m\u001b[0m\u001b[1;33m\u001b[0m\u001b[0m\n\u001b[1;32m---> 18\u001b[1;33m \u001b[0mresults_rf\u001b[0m\u001b[1;33m,\u001b[0m \u001b[0my_pred_rf\u001b[0m\u001b[1;33m,\u001b[0m \u001b[0my_test_rf\u001b[0m \u001b[1;33m=\u001b[0m \u001b[0mtraining_pipeline\u001b[0m\u001b[1;33m(\u001b[0m\u001b[0mdf\u001b[0m\u001b[1;33m,\u001b[0m \u001b[0mtests\u001b[0m\u001b[1;33m,\u001b[0m \u001b[0mmodels\u001b[0m\u001b[1;33m[\u001b[0m\u001b[1;34m\"rf\"\u001b[0m\u001b[1;33m]\u001b[0m\u001b[1;33m,\u001b[0m \u001b[0mparam_grids\u001b[0m\u001b[1;33m[\u001b[0m\u001b[1;34m\"rf\"\u001b[0m\u001b[1;33m]\u001b[0m\u001b[1;33m)\u001b[0m\u001b[1;33m\u001b[0m\u001b[1;33m\u001b[0m\u001b[0m\n\u001b[0m",
      "\u001b[1;32m<ipython-input-74-43eb576e3e54>\u001b[0m in \u001b[0;36mtraining_pipeline\u001b[1;34m(df, tests, model, param_grid, random_state)\u001b[0m\n\u001b[0;32m     20\u001b[0m \u001b[1;33m\u001b[0m\u001b[0m\n\u001b[0;32m     21\u001b[0m             \u001b[1;32mif\u001b[0m \u001b[0moutliers_option\u001b[0m \u001b[1;33m==\u001b[0m \u001b[1;34m\"lof\"\u001b[0m\u001b[1;33m:\u001b[0m\u001b[1;33m\u001b[0m\u001b[1;33m\u001b[0m\u001b[0m\n\u001b[1;32m---> 22\u001b[1;33m                 \u001b[0mX\u001b[0m\u001b[1;33m,\u001b[0m \u001b[0my\u001b[0m \u001b[1;33m=\u001b[0m \u001b[0moutliers_lof\u001b[0m\u001b[1;33m(\u001b[0m\u001b[0mX\u001b[0m\u001b[1;33m,\u001b[0m\u001b[0my\u001b[0m\u001b[1;33m)\u001b[0m\u001b[1;33m\u001b[0m\u001b[1;33m\u001b[0m\u001b[0m\n\u001b[0m\u001b[0;32m     23\u001b[0m                 \u001b[0mfield_0\u001b[0m \u001b[1;33m+=\u001b[0m \u001b[1;34m'LOF + '\u001b[0m\u001b[1;33m\u001b[0m\u001b[1;33m\u001b[0m\u001b[0m\n\u001b[0;32m     24\u001b[0m \u001b[1;33m\u001b[0m\u001b[0m\n",
      "\u001b[1;32m<ipython-input-19-d345a3b2f063>\u001b[0m in \u001b[0;36moutliers_lof\u001b[1;34m(X, y, n_neighbors)\u001b[0m\n\u001b[0;32m     79\u001b[0m     \u001b[0mX\u001b[0m \u001b[1;33m=\u001b[0m \u001b[0mnp\u001b[0m\u001b[1;33m.\u001b[0m\u001b[0masarray\u001b[0m\u001b[1;33m(\u001b[0m\u001b[0mX\u001b[0m\u001b[1;33m)\u001b[0m\u001b[1;33m\u001b[0m\u001b[1;33m\u001b[0m\u001b[0m\n\u001b[0;32m     80\u001b[0m \u001b[1;33m\u001b[0m\u001b[0m\n\u001b[1;32m---> 81\u001b[1;33m     \u001b[0moutliers\u001b[0m \u001b[1;33m=\u001b[0m \u001b[0mLocalOutlierFactor\u001b[0m\u001b[1;33m(\u001b[0m\u001b[0mn_neighbors\u001b[0m \u001b[1;33m=\u001b[0m \u001b[0mn_neighbors\u001b[0m\u001b[1;33m,\u001b[0m \u001b[0mn_jobs\u001b[0m \u001b[1;33m=\u001b[0m \u001b[1;33m-\u001b[0m\u001b[1;36m1\u001b[0m\u001b[1;33m)\u001b[0m\u001b[1;33m.\u001b[0m\u001b[0mfit_predict\u001b[0m\u001b[1;33m(\u001b[0m\u001b[0mX\u001b[0m\u001b[1;33m)\u001b[0m\u001b[1;33m\u001b[0m\u001b[1;33m\u001b[0m\u001b[0m\n\u001b[0m\u001b[0;32m     82\u001b[0m     \u001b[0mX\u001b[0m \u001b[1;33m=\u001b[0m \u001b[0mX\u001b[0m\u001b[1;33m[\u001b[0m\u001b[0moutliers\u001b[0m \u001b[1;33m==\u001b[0m \u001b[1;36m1\u001b[0m\u001b[1;33m,\u001b[0m \u001b[1;33m:\u001b[0m\u001b[1;33m]\u001b[0m\u001b[1;33m\u001b[0m\u001b[1;33m\u001b[0m\u001b[0m\n\u001b[0;32m     83\u001b[0m     \u001b[0my\u001b[0m \u001b[1;33m=\u001b[0m \u001b[0my\u001b[0m\u001b[1;33m[\u001b[0m\u001b[0moutliers\u001b[0m \u001b[1;33m==\u001b[0m \u001b[1;36m1\u001b[0m\u001b[1;33m]\u001b[0m\u001b[1;33m\u001b[0m\u001b[1;33m\u001b[0m\u001b[0m\n",
      "\u001b[1;32m~\\anaconda3\\envs\\venv-mml\\lib\\site-packages\\sklearn\\neighbors\\_lof.py\u001b[0m in \u001b[0;36m_fit_predict\u001b[1;34m(self, X, y)\u001b[0m\n\u001b[0;32m    244\u001b[0m         \u001b[1;31m# only available for outlier detection (novelty=False)\u001b[0m\u001b[1;33m\u001b[0m\u001b[1;33m\u001b[0m\u001b[1;33m\u001b[0m\u001b[0m\n\u001b[0;32m    245\u001b[0m \u001b[1;33m\u001b[0m\u001b[0m\n\u001b[1;32m--> 246\u001b[1;33m         \u001b[1;32mreturn\u001b[0m \u001b[0mself\u001b[0m\u001b[1;33m.\u001b[0m\u001b[0mfit\u001b[0m\u001b[1;33m(\u001b[0m\u001b[0mX\u001b[0m\u001b[1;33m)\u001b[0m\u001b[1;33m.\u001b[0m\u001b[0m_predict\u001b[0m\u001b[1;33m(\u001b[0m\u001b[1;33m)\u001b[0m\u001b[1;33m\u001b[0m\u001b[1;33m\u001b[0m\u001b[0m\n\u001b[0m\u001b[0;32m    247\u001b[0m \u001b[1;33m\u001b[0m\u001b[0m\n\u001b[0;32m    248\u001b[0m     \u001b[1;32mdef\u001b[0m \u001b[0mfit\u001b[0m\u001b[1;33m(\u001b[0m\u001b[0mself\u001b[0m\u001b[1;33m,\u001b[0m \u001b[0mX\u001b[0m\u001b[1;33m,\u001b[0m \u001b[0my\u001b[0m\u001b[1;33m=\u001b[0m\u001b[1;32mNone\u001b[0m\u001b[1;33m)\u001b[0m\u001b[1;33m:\u001b[0m\u001b[1;33m\u001b[0m\u001b[1;33m\u001b[0m\u001b[0m\n",
      "\u001b[1;32m~\\anaconda3\\envs\\venv-mml\\lib\\site-packages\\sklearn\\neighbors\\_lof.py\u001b[0m in \u001b[0;36mfit\u001b[1;34m(self, X, y)\u001b[0m\n\u001b[0;32m    278\u001b[0m         \u001b[0mself\u001b[0m\u001b[1;33m.\u001b[0m\u001b[0mn_neighbors_\u001b[0m \u001b[1;33m=\u001b[0m \u001b[0mmax\u001b[0m\u001b[1;33m(\u001b[0m\u001b[1;36m1\u001b[0m\u001b[1;33m,\u001b[0m \u001b[0mmin\u001b[0m\u001b[1;33m(\u001b[0m\u001b[0mself\u001b[0m\u001b[1;33m.\u001b[0m\u001b[0mn_neighbors\u001b[0m\u001b[1;33m,\u001b[0m \u001b[0mn_samples\u001b[0m \u001b[1;33m-\u001b[0m \u001b[1;36m1\u001b[0m\u001b[1;33m)\u001b[0m\u001b[1;33m)\u001b[0m\u001b[1;33m\u001b[0m\u001b[1;33m\u001b[0m\u001b[0m\n\u001b[0;32m    279\u001b[0m \u001b[1;33m\u001b[0m\u001b[0m\n\u001b[1;32m--> 280\u001b[1;33m         self._distances_fit_X_, _neighbors_indices_fit_X_ = self.kneighbors(\n\u001b[0m\u001b[0;32m    281\u001b[0m             n_neighbors=self.n_neighbors_)\n\u001b[0;32m    282\u001b[0m \u001b[1;33m\u001b[0m\u001b[0m\n",
      "\u001b[1;32m~\\anaconda3\\envs\\venv-mml\\lib\\site-packages\\sklearn\\neighbors\\_base.py\u001b[0m in \u001b[0;36mkneighbors\u001b[1;34m(self, X, n_neighbors, return_distance)\u001b[0m\n\u001b[0;32m    703\u001b[0m                 \u001b[0mkwds\u001b[0m \u001b[1;33m=\u001b[0m \u001b[0mself\u001b[0m\u001b[1;33m.\u001b[0m\u001b[0meffective_metric_params_\u001b[0m\u001b[1;33m\u001b[0m\u001b[1;33m\u001b[0m\u001b[0m\n\u001b[0;32m    704\u001b[0m \u001b[1;33m\u001b[0m\u001b[0m\n\u001b[1;32m--> 705\u001b[1;33m             chunked_results = list(pairwise_distances_chunked(\n\u001b[0m\u001b[0;32m    706\u001b[0m                 \u001b[0mX\u001b[0m\u001b[1;33m,\u001b[0m \u001b[0mself\u001b[0m\u001b[1;33m.\u001b[0m\u001b[0m_fit_X\u001b[0m\u001b[1;33m,\u001b[0m \u001b[0mreduce_func\u001b[0m\u001b[1;33m=\u001b[0m\u001b[0mreduce_func\u001b[0m\u001b[1;33m,\u001b[0m\u001b[1;33m\u001b[0m\u001b[1;33m\u001b[0m\u001b[0m\n\u001b[0;32m    707\u001b[0m                 \u001b[0mmetric\u001b[0m\u001b[1;33m=\u001b[0m\u001b[0mself\u001b[0m\u001b[1;33m.\u001b[0m\u001b[0meffective_metric_\u001b[0m\u001b[1;33m,\u001b[0m \u001b[0mn_jobs\u001b[0m\u001b[1;33m=\u001b[0m\u001b[0mn_jobs\u001b[0m\u001b[1;33m,\u001b[0m\u001b[1;33m\u001b[0m\u001b[1;33m\u001b[0m\u001b[0m\n",
      "\u001b[1;32m~\\anaconda3\\envs\\venv-mml\\lib\\site-packages\\sklearn\\metrics\\pairwise.py\u001b[0m in \u001b[0;36mpairwise_distances_chunked\u001b[1;34m(X, Y, reduce_func, metric, n_jobs, working_memory, **kwds)\u001b[0m\n\u001b[0;32m   1631\u001b[0m         \u001b[1;32mif\u001b[0m \u001b[0mreduce_func\u001b[0m \u001b[1;32mis\u001b[0m \u001b[1;32mnot\u001b[0m \u001b[1;32mNone\u001b[0m\u001b[1;33m:\u001b[0m\u001b[1;33m\u001b[0m\u001b[1;33m\u001b[0m\u001b[0m\n\u001b[0;32m   1632\u001b[0m             \u001b[0mchunk_size\u001b[0m \u001b[1;33m=\u001b[0m \u001b[0mD_chunk\u001b[0m\u001b[1;33m.\u001b[0m\u001b[0mshape\u001b[0m\u001b[1;33m[\u001b[0m\u001b[1;36m0\u001b[0m\u001b[1;33m]\u001b[0m\u001b[1;33m\u001b[0m\u001b[1;33m\u001b[0m\u001b[0m\n\u001b[1;32m-> 1633\u001b[1;33m             \u001b[0mD_chunk\u001b[0m \u001b[1;33m=\u001b[0m \u001b[0mreduce_func\u001b[0m\u001b[1;33m(\u001b[0m\u001b[0mD_chunk\u001b[0m\u001b[1;33m,\u001b[0m \u001b[0msl\u001b[0m\u001b[1;33m.\u001b[0m\u001b[0mstart\u001b[0m\u001b[1;33m)\u001b[0m\u001b[1;33m\u001b[0m\u001b[1;33m\u001b[0m\u001b[0m\n\u001b[0m\u001b[0;32m   1634\u001b[0m             \u001b[0m_check_chunk_size\u001b[0m\u001b[1;33m(\u001b[0m\u001b[0mD_chunk\u001b[0m\u001b[1;33m,\u001b[0m \u001b[0mchunk_size\u001b[0m\u001b[1;33m)\u001b[0m\u001b[1;33m\u001b[0m\u001b[1;33m\u001b[0m\u001b[0m\n\u001b[0;32m   1635\u001b[0m         \u001b[1;32myield\u001b[0m \u001b[0mD_chunk\u001b[0m\u001b[1;33m\u001b[0m\u001b[1;33m\u001b[0m\u001b[0m\n",
      "\u001b[1;32m~\\anaconda3\\envs\\venv-mml\\lib\\site-packages\\sklearn\\neighbors\\_base.py\u001b[0m in \u001b[0;36m_kneighbors_reduce_func\u001b[1;34m(self, dist, start, n_neighbors, return_distance)\u001b[0m\n\u001b[0;32m    580\u001b[0m         \"\"\"\n\u001b[0;32m    581\u001b[0m         \u001b[0msample_range\u001b[0m \u001b[1;33m=\u001b[0m \u001b[0mnp\u001b[0m\u001b[1;33m.\u001b[0m\u001b[0marange\u001b[0m\u001b[1;33m(\u001b[0m\u001b[0mdist\u001b[0m\u001b[1;33m.\u001b[0m\u001b[0mshape\u001b[0m\u001b[1;33m[\u001b[0m\u001b[1;36m0\u001b[0m\u001b[1;33m]\u001b[0m\u001b[1;33m)\u001b[0m\u001b[1;33m[\u001b[0m\u001b[1;33m:\u001b[0m\u001b[1;33m,\u001b[0m \u001b[1;32mNone\u001b[0m\u001b[1;33m]\u001b[0m\u001b[1;33m\u001b[0m\u001b[1;33m\u001b[0m\u001b[0m\n\u001b[1;32m--> 582\u001b[1;33m         \u001b[0mneigh_ind\u001b[0m \u001b[1;33m=\u001b[0m \u001b[0mnp\u001b[0m\u001b[1;33m.\u001b[0m\u001b[0margpartition\u001b[0m\u001b[1;33m(\u001b[0m\u001b[0mdist\u001b[0m\u001b[1;33m,\u001b[0m \u001b[0mn_neighbors\u001b[0m \u001b[1;33m-\u001b[0m \u001b[1;36m1\u001b[0m\u001b[1;33m,\u001b[0m \u001b[0maxis\u001b[0m\u001b[1;33m=\u001b[0m\u001b[1;36m1\u001b[0m\u001b[1;33m)\u001b[0m\u001b[1;33m\u001b[0m\u001b[1;33m\u001b[0m\u001b[0m\n\u001b[0m\u001b[0;32m    583\u001b[0m         \u001b[0mneigh_ind\u001b[0m \u001b[1;33m=\u001b[0m \u001b[0mneigh_ind\u001b[0m\u001b[1;33m[\u001b[0m\u001b[1;33m:\u001b[0m\u001b[1;33m,\u001b[0m \u001b[1;33m:\u001b[0m\u001b[0mn_neighbors\u001b[0m\u001b[1;33m]\u001b[0m\u001b[1;33m\u001b[0m\u001b[1;33m\u001b[0m\u001b[0m\n\u001b[0;32m    584\u001b[0m         \u001b[1;31m# argpartition doesn't guarantee sorted order, so we sort again\u001b[0m\u001b[1;33m\u001b[0m\u001b[1;33m\u001b[0m\u001b[1;33m\u001b[0m\u001b[0m\n",
      "\u001b[1;32m<__array_function__ internals>\u001b[0m in \u001b[0;36margpartition\u001b[1;34m(*args, **kwargs)\u001b[0m\n",
      "\u001b[1;32m~\\anaconda3\\envs\\venv-mml\\lib\\site-packages\\numpy\\core\\fromnumeric.py\u001b[0m in \u001b[0;36margpartition\u001b[1;34m(a, kth, axis, kind, order)\u001b[0m\n\u001b[0;32m    835\u001b[0m \u001b[1;33m\u001b[0m\u001b[0m\n\u001b[0;32m    836\u001b[0m     \"\"\"\n\u001b[1;32m--> 837\u001b[1;33m     \u001b[1;32mreturn\u001b[0m \u001b[0m_wrapfunc\u001b[0m\u001b[1;33m(\u001b[0m\u001b[0ma\u001b[0m\u001b[1;33m,\u001b[0m \u001b[1;34m'argpartition'\u001b[0m\u001b[1;33m,\u001b[0m \u001b[0mkth\u001b[0m\u001b[1;33m,\u001b[0m \u001b[0maxis\u001b[0m\u001b[1;33m=\u001b[0m\u001b[0maxis\u001b[0m\u001b[1;33m,\u001b[0m \u001b[0mkind\u001b[0m\u001b[1;33m=\u001b[0m\u001b[0mkind\u001b[0m\u001b[1;33m,\u001b[0m \u001b[0morder\u001b[0m\u001b[1;33m=\u001b[0m\u001b[0morder\u001b[0m\u001b[1;33m)\u001b[0m\u001b[1;33m\u001b[0m\u001b[1;33m\u001b[0m\u001b[0m\n\u001b[0m\u001b[0;32m    838\u001b[0m \u001b[1;33m\u001b[0m\u001b[0m\n\u001b[0;32m    839\u001b[0m \u001b[1;33m\u001b[0m\u001b[0m\n",
      "\u001b[1;32m~\\anaconda3\\envs\\venv-mml\\lib\\site-packages\\numpy\\core\\fromnumeric.py\u001b[0m in \u001b[0;36m_wrapfunc\u001b[1;34m(obj, method, *args, **kwds)\u001b[0m\n\u001b[0;32m     56\u001b[0m \u001b[1;33m\u001b[0m\u001b[0m\n\u001b[0;32m     57\u001b[0m     \u001b[1;32mtry\u001b[0m\u001b[1;33m:\u001b[0m\u001b[1;33m\u001b[0m\u001b[1;33m\u001b[0m\u001b[0m\n\u001b[1;32m---> 58\u001b[1;33m         \u001b[1;32mreturn\u001b[0m \u001b[0mbound\u001b[0m\u001b[1;33m(\u001b[0m\u001b[1;33m*\u001b[0m\u001b[0margs\u001b[0m\u001b[1;33m,\u001b[0m \u001b[1;33m**\u001b[0m\u001b[0mkwds\u001b[0m\u001b[1;33m)\u001b[0m\u001b[1;33m\u001b[0m\u001b[1;33m\u001b[0m\u001b[0m\n\u001b[0m\u001b[0;32m     59\u001b[0m     \u001b[1;32mexcept\u001b[0m \u001b[0mTypeError\u001b[0m\u001b[1;33m:\u001b[0m\u001b[1;33m\u001b[0m\u001b[1;33m\u001b[0m\u001b[0m\n\u001b[0;32m     60\u001b[0m         \u001b[1;31m# A TypeError occurs if the object does have such a method in its\u001b[0m\u001b[1;33m\u001b[0m\u001b[1;33m\u001b[0m\u001b[1;33m\u001b[0m\u001b[0m\n",
      "\u001b[1;31mKeyboardInterrupt\u001b[0m: "
     ]
    }
   ],
   "source": [
    "# outliers_option, scaling, pca, resampling = curr_test\n",
    "# SET ALL COMBINATIONS\n",
    "\n",
    "pca_options = [None]\n",
    "scaling = [True]\n",
    "outliers_options = [\"lof\"]\n",
    "resampling_options = [None, under_s, over_s, smoteenn]\n",
    "\n",
    "tests = []\n",
    "\n",
    "for o in outliers_options:\n",
    "    for s in scaling:\n",
    "        for p in pca_options:\n",
    "            for r in resampling_options:\n",
    "                tests.append([o,s,p,r])\n",
    "\n",
    "# outliers_option, scaling, pca, resampling = curr_test\n",
    "results_rf, y_pred_rf, y_test_rf = training_pipeline(df, tests, models[\"rf\"], param_grids[\"rf\"])"
   ]
  },
  {
   "cell_type": "code",
   "execution_count": 44,
   "metadata": {},
   "outputs": [
    {
     "data": {
      "image/png": "[encoded data removed]",
      "text/plain": [
       "<Figure size 432x288 with 1 Axes>"
      ]
     },
     "metadata": {},
     "output_type": "display_data"
    }
   ],
   "source": [
    "sns.set('talk', 'darkgrid',\n",
    "        rc={'grid.linestyle': '--'})\n",
    "\n",
    "fpr, tpr, _ = roc_curve(y_test_rf,y_pred_rf)\n",
    "roc_auc = auc(fpr, tpr)\n",
    "plt.plot(fpr, tpr, color='#bfef88',label='ROC curve (AUC = %0.2f)' % roc_auc)\n",
    "plt.plot([0, 1], [0, 1], color='navy', lw=lw, linestyle='--')\n",
    "plt.xlabel('False Positive Rate (FPR)')\n",
    "plt.ylabel('True Positive Rate (TPR)')\n",
    "\n",
    "plt.legend(loc=\"lower right\")\n",
    "plt.show()\n"
   ]
  },
  {
   "cell_type": "markdown",
   "metadata": {},
   "source": [
    "# KNN"
   ]
  },
  {
   "cell_type": "code",
   "execution_count": 1,
   "metadata": {},
   "outputs": [
    {
     "ename": "NameError",
     "evalue": "name 'training_pipeline' is not defined",
     "output_type": "error",
     "traceback": [
      "\u001b[1;31m---------------------------------------------------------------------------\u001b[0m",
      "\u001b[1;31mNameError\u001b[0m                                 Traceback (most recent call last)",
      "\u001b[1;32m<ipython-input-1-1714a90cd571>\u001b[0m in \u001b[0;36m<module>\u001b[1;34m\u001b[0m\n\u001b[1;32m----> 1\u001b[1;33m \u001b[0mresults_knn\u001b[0m\u001b[1;33m,\u001b[0m \u001b[0mbest_estimator_knn\u001b[0m \u001b[1;33m=\u001b[0m \u001b[0mtraining_pipeline\u001b[0m\u001b[1;33m(\u001b[0m\u001b[0mdf\u001b[0m\u001b[1;33m,\u001b[0m \u001b[0mtests\u001b[0m\u001b[1;33m,\u001b[0m \u001b[0mmodels\u001b[0m\u001b[1;33m[\u001b[0m\u001b[1;34m\"knn\"\u001b[0m\u001b[1;33m]\u001b[0m\u001b[1;33m,\u001b[0m \u001b[0mparam_grids\u001b[0m\u001b[1;33m[\u001b[0m\u001b[1;34m\"knn\"\u001b[0m\u001b[1;33m]\u001b[0m\u001b[1;33m)\u001b[0m\u001b[1;33m\u001b[0m\u001b[1;33m\u001b[0m\u001b[0m\n\u001b[0m",
      "\u001b[1;31mNameError\u001b[0m: name 'training_pipeline' is not defined"
     ]
    }
   ],
   "source": [
    "results_knn, best_estimator_knn = training_pipeline(df, tests, models[\"knn\"], param_grids[\"knn\"])"
   ]
  },
  {
   "cell_type": "markdown",
   "metadata": {},
   "source": [
    "[('Scaling + PCA',\n",
    "  0.6857291395892904,\n",
    "  {'kneighborsclassifier__algorithm': 'auto',\n",
    "   'kneighborsclassifier__n_jobs': -1,\n",
    "   'kneighborsclassifier__n_neighbors': 50,\n",
    "   'kneighborsclassifier__weights': 'distance'}),\n",
    " ('Scaling + PCA + RandomUnderSampler',\n",
    "  0.6470710860954764,\n",
    "  {'kneighborsclassifier__algorithm': 'auto',\n",
    "   'kneighborsclassifier__n_jobs': -1,\n",
    "   'kneighborsclassifier__n_neighbors': 75,\n",
    "   'kneighborsclassifier__weights': 'distance'}),\n",
    " ('Scaling + PCA + SMOTE',\n",
    "  0.6447608616283316,\n",
    "  {'kneighborsclassifier__algorithm': 'auto',\n",
    "   'kneighborsclassifier__n_jobs': -1,\n",
    "   'kneighborsclassifier__n_neighbors': 75,\n",
    "   'kneighborsclassifier__weights': 'distance'}),\n",
    " ('Scaling + PCA + SMOTEENN',\n",
    "  0.515017793594306,\n",
    "  {'kneighborsclassifier__algorithm': 'auto',\n",
    "   'kneighborsclassifier__n_jobs': -1,\n",
    "   'kneighborsclassifier__n_neighbors': 75,\n",
    "   'kneighborsclassifier__weights': 'distance'}),\n",
    " ('LOF + Scaling + PCA',\n",
    "  0.6945397815912636,\n",
    "  {'kneighborsclassifier__algorithm': 'auto',\n",
    "   'kneighborsclassifier__n_jobs': -1,\n",
    "   'kneighborsclassifier__n_neighbors': 75,\n",
    "   'kneighborsclassifier__weights': 'distance'}),\n",
    " ('LOF + Scaling + PCA + RandomUnderSampler',\n",
    "  0.6718003186404674,\n",
    "  {'kneighborsclassifier__algorithm': 'auto',\n",
    "   'kneighborsclassifier__n_jobs': -1,\n",
    "   'kneighborsclassifier__n_neighbors': 75,\n",
    "   'kneighborsclassifier__weights': 'distance'}),\n",
    " ('LOF + Scaling + PCA + SMOTE',\n",
    "  0.6857142857142856,\n",
    "  {'kneighborsclassifier__algorithm': 'auto',\n",
    "   'kneighborsclassifier__n_jobs': -1,\n",
    "   'kneighborsclassifier__n_neighbors': 75,\n",
    "   'kneighborsclassifier__weights': 'distance'}),\n",
    " ('LOF + Scaling + PCA + SMOTEENN',\n",
    "  0.5528885272579334,\n",
    "  {'kneighborsclassifier__algorithm': 'auto',\n",
    "   'kneighborsclassifier__n_jobs': -1,\n",
    "   'kneighborsclassifier__n_neighbors': 50,\n",
    "   'kneighborsclassifier__weights': 'distance'})]"
   ]
  },
  {
   "cell_type": "code",
   "execution_count": 65,
   "metadata": {},
   "outputs": [
    {
     "data": {
      "text/plain": [
       "[<matplotlib.lines.Line2D at 0x1fb0359efd0>]"
      ]
     },
     "execution_count": 65,
     "metadata": {},
     "output_type": "execute_result"
    },
    {
     "data": {
      "image/png": "[encoded data removed]",
      "text/plain": [
       "<Figure size 432x288 with 1 Axes>"
      ]
     },
     "metadata": {},
     "output_type": "display_data"
    }
   ],
   "source": [
    "# choose the value of K\n",
    "\n",
    "k_list = [i for i in range(3,50,2)]\n",
    "f1_list = []\n",
    "\n",
    "y, X = df[\"default payment next month\"], df.drop(\"default payment next month\", axis=1)\n",
    "X_train, X_test, y_train, y_test = split_data(X, y, 42)\n",
    "\n",
    "for k in k_list:\n",
    "    neigh = KNeighborsClassifier(n_neighbors=k)\n",
    "    neigh.fit(X_train, y_train)\n",
    "    y_pred = neigh.predict(X_test)\n",
    "    f1_list.append(f1_score(y_test,y_pred))\n",
    "    \n",
    "\n",
    "plt.plot(k_list,f1_list)    "
   ]
  },
  {
   "cell_type": "code",
   "execution_count": 64,
   "metadata": {},
   "outputs": [
    {
     "data": {
      "text/plain": [
       "[<matplotlib.lines.Line2D at 0x1fb03b6c1f0>]"
      ]
     },
     "execution_count": 64,
     "metadata": {},
     "output_type": "execute_result"
    },
    {
     "data": {
      "image/png": "[encoded data removed]",
      "text/plain": [
       "<Figure size 432x288 with 1 Axes>"
      ]
     },
     "metadata": {},
     "output_type": "display_data"
    }
   ],
   "source": [
    "# choose the value of K\n",
    "\n",
    "k_list = [i for i in range(3,50)]\n",
    "f1_list = []\n",
    "\n",
    "X_filt, y_filt = drop_correlated_data(df)\n",
    "X_train, X_test, y_train, y_test = split_data(X_filt, y_filt, 42)\n",
    "\n",
    "for k in k_list:\n",
    "    neigh = KNeighborsClassifier(n_neighbors=k)\n",
    "    neigh.fit(X_train, y_train)\n",
    "    y_pred = neigh.predict(X_test)\n",
    "    f1_list.append(f1_score(y_test,y_pred))\n",
    "    \n",
    "\n",
    "plt.plot(k_list,f1_list)    "
   ]
  },
  {
   "cell_type": "markdown",
   "metadata": {},
   "source": [
    "## Logistic Regression"
   ]
  },
  {
   "cell_type": "code",
   "execution_count": 9,
   "metadata": {},
   "outputs": [],
   "source": [
    "pca_options = [None, pca]\n",
    "scaling = [True]\n",
    "outliers_options = [None, \"lof\"]\n",
    "resampling_options = [None, under_s, over_s, smoteenn]\n",
    "\n",
    "tests = []\n",
    "\n",
    "for o in outliers_options:\n",
    "    for s in scaling:\n",
    "        for p in pca_options:\n",
    "            for r in resampling_options:\n",
    "                tests.append([o,s,p,r])"
   ]
  },
  {
   "cell_type": "code",
   "execution_count": 10,
   "metadata": {},
   "outputs": [
    {
     "name": "stdout",
     "output_type": "stream",
     "text": [
      "Done 1/16\n",
      "Done 2/16\n",
      "Done 3/16\n",
      "Done 4/16\n",
      "Done 5/16\n",
      "Done 6/16\n",
      "Done 7/16\n",
      "Done 8/16\n",
      "Done 9/16\n",
      "Done 10/16\n",
      "Done 11/16\n",
      "Done 12/16\n",
      "Done 13/16\n",
      "Done 14/16\n",
      "Done 15/16\n",
      "Done 16/16\n"
     ]
    }
   ],
   "source": [
    "results_log, y_pred_log, y_test_log = training_pipeline(df, tests, models[\"logistic\"], param_grids[\"logisticregression\"])"
   ]
  },
  {
   "cell_type": "code",
   "execution_count": 16,
   "metadata": {},
   "outputs": [
    {
     "data": {
      "image/png": "[encoded data removed]",
      "text/plain": [
       "<Figure size 1008x288 with 3 Axes>"
      ]
     },
     "metadata": {},
     "output_type": "display_data"
    }
   ],
   "source": [
    "sns.set_style('whitegrid')\n",
    "plt_lr = plot_summary(results_log,y_pred_log, y_test_log)\n",
    "plt_lr.savefig('../images/21-lr_results.svg')\n",
    "plt_lr.show()"
   ]
  },
  {
   "cell_type": "code",
   "execution_count": 45,
   "metadata": {},
   "outputs": [
    {
     "data": {
      "text/plain": [
       "[('Scaling',\n",
       "  0.3590664272890485,\n",
       "  {'logisticregression__C': 1.4,\n",
       "   'logisticregression__max_iter': 500,\n",
       "   'logisticregression__penalty': 'l1',\n",
       "   'logisticregression__solver': 'saga',\n",
       "   'logisticregression__tol': 0.0001}),\n",
       " ('Scaling + RandomUnderSampler',\n",
       "  0.4955189361087019,\n",
       "  {'logisticregression__C': 1.2,\n",
       "   'logisticregression__max_iter': 500,\n",
       "   'logisticregression__penalty': 'l1',\n",
       "   'logisticregression__solver': 'saga',\n",
       "   'logisticregression__tol': 0.001}),\n",
       " ('Scaling + SMOTE',\n",
       "  0.46354733405875953,\n",
       "  {'logisticregression__C': 1.4,\n",
       "   'logisticregression__max_iter': 500,\n",
       "   'logisticregression__penalty': 'l1',\n",
       "   'logisticregression__solver': 'saga',\n",
       "   'logisticregression__tol': 0.1}),\n",
       " ('Scaling + SMOTEENN',\n",
       "  0.42649820727334814,\n",
       "  {'logisticregression__C': 0.6,\n",
       "   'logisticregression__max_iter': 500,\n",
       "   'logisticregression__penalty': 'l2',\n",
       "   'logisticregression__solver': 'saga',\n",
       "   'logisticregression__tol': 0.001}),\n",
       " ('Scaling + PCA',\n",
       "  0.2743022136669875,\n",
       "  {'logisticregression__C': 0.6,\n",
       "   'logisticregression__max_iter': 500,\n",
       "   'logisticregression__penalty': 'l2',\n",
       "   'logisticregression__solver': 'saga',\n",
       "   'logisticregression__tol': 0.0001}),\n",
       " ('Scaling + PCA + RandomUnderSampler',\n",
       "  0.46662958843159064,\n",
       "  {'logisticregression__C': 0.6,\n",
       "   'logisticregression__max_iter': 500,\n",
       "   'logisticregression__penalty': 'l2',\n",
       "   'logisticregression__solver': 'saga',\n",
       "   'logisticregression__tol': 0.0001}),\n",
       " ('Scaling + PCA + SMOTE',\n",
       "  0.43752560426054893,\n",
       "  {'logisticregression__C': 0.8,\n",
       "   'logisticregression__max_iter': 500,\n",
       "   'logisticregression__penalty': 'l2',\n",
       "   'logisticregression__solver': 'saga',\n",
       "   'logisticregression__tol': 0.0001}),\n",
       " ('Scaling + PCA + SMOTEENN',\n",
       "  0.4107547781017169,\n",
       "  {'logisticregression__C': 0.6,\n",
       "   'logisticregression__max_iter': 500,\n",
       "   'logisticregression__penalty': 'l2',\n",
       "   'logisticregression__solver': 'saga',\n",
       "   'logisticregression__tol': 0.0001}),\n",
       " ('LOF + Scaling',\n",
       "  0.4112946190729888,\n",
       "  {'logisticregression__C': 0.8,\n",
       "   'logisticregression__max_iter': 500,\n",
       "   'logisticregression__penalty': 'l1',\n",
       "   'logisticregression__solver': 'saga',\n",
       "   'logisticregression__tol': 0.0001}),\n",
       " ('LOF + Scaling + RandomUnderSampler',\n",
       "  0.5542168674698794,\n",
       "  {'logisticregression__C': 0.6,\n",
       "   'logisticregression__max_iter': 500,\n",
       "   'logisticregression__penalty': 'l1',\n",
       "   'logisticregression__solver': 'saga',\n",
       "   'logisticregression__tol': 0.01}),\n",
       " ('LOF + Scaling + SMOTE',\n",
       "  0.5311367380560131,\n",
       "  {'logisticregression__C': 0.6,\n",
       "   'logisticregression__max_iter': 500,\n",
       "   'logisticregression__penalty': 'l1',\n",
       "   'logisticregression__solver': 'saga',\n",
       "   'logisticregression__tol': 0.1}),\n",
       " ('LOF + Scaling + SMOTEENN',\n",
       "  0.4735038228315318,\n",
       "  {'logisticregression__C': 1.0,\n",
       "   'logisticregression__max_iter': 500,\n",
       "   'logisticregression__penalty': 'l2',\n",
       "   'logisticregression__solver': 'saga',\n",
       "   'logisticregression__tol': 0.01}),\n",
       " ('LOF + Scaling + PCA',\n",
       "  0.3525046382189239,\n",
       "  {'logisticregression__C': 0.6,\n",
       "   'logisticregression__max_iter': 500,\n",
       "   'logisticregression__penalty': 'l2',\n",
       "   'logisticregression__solver': 'saga',\n",
       "   'logisticregression__tol': 0.001}),\n",
       " ('LOF + Scaling + PCA + RandomUnderSampler',\n",
       "  0.5561632309633993,\n",
       "  {'logisticregression__C': 0.6,\n",
       "   'logisticregression__max_iter': 500,\n",
       "   'logisticregression__penalty': 'l1',\n",
       "   'logisticregression__solver': 'saga',\n",
       "   'logisticregression__tol': 0.01}),\n",
       " ('LOF + Scaling + PCA + SMOTE',\n",
       "  0.48551637279596976,\n",
       "  {'logisticregression__C': 0.8,\n",
       "   'logisticregression__max_iter': 500,\n",
       "   'logisticregression__penalty': 'l1',\n",
       "   'logisticregression__solver': 'saga',\n",
       "   'logisticregression__tol': 0.1}),\n",
       " ('LOF + Scaling + PCA + SMOTEENN',\n",
       "  0.45175993922512026,\n",
       "  {'logisticregression__C': 0.8,\n",
       "   'logisticregression__max_iter': 500,\n",
       "   'logisticregression__penalty': 'l2',\n",
       "   'logisticregression__solver': 'saga',\n",
       "   'logisticregression__tol': 0.1})]"
      ]
     },
     "execution_count": 45,
     "metadata": {},
     "output_type": "execute_result"
    }
   ],
   "source": [
    "results_log\n",
    "\n",
    "('LOF + Scaling + PCA + RandomUnderSampler',\n",
    "  0.5561632309633993,\n",
    "  {'logisticregression__C': 0.6,\n",
    "   'logisticregression__max_iter': 500,\n",
    "   'logisticregression__penalty': 'l1',\n",
    "   'logisticregression__solver': 'saga',\n",
    "   'logisticregression__tol': 0.01}),"
   ]
  },
  {
   "cell_type": "code",
   "execution_count": null,
   "metadata": {},
   "outputs": [],
   "source": []
  }
 ],
 "metadata": {
  "kernelspec": {
   "display_name": "venv-mml-2",
   "language": "python",
   "name": "venv-mml"
  },
  "language_info": {
   "codemirror_mode": {
    "name": "ipython",
    "version": 3
   },
   "file_extension": ".py",
   "mimetype": "text/x-python",
   "name": "python",
   "nbconvert_exporter": "python",
   "pygments_lexer": "ipython3",
   "version": "3.9.5"
  }
 },
 "nbformat": 4,
 "nbformat_minor": 4
}
